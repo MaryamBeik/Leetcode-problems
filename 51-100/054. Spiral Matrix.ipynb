{
 "cells": [
  {
   "cell_type": "raw",
   "id": "c21bcac3",
   "metadata": {},
   "source": [
    "Given an m x n matrix, return all elements of the matrix in spiral order.#spiral matrix"
   ]
  },
  {
   "cell_type": "code",
   "execution_count": 3,
   "id": "f8c8135f",
   "metadata": {},
   "outputs": [],
   "source": [
    "def spiralMatrix(matrix):\n",
    "    l ,r = 0 , len(matrix[0])\n",
    "    top , bottom = 0, len(matrix)\n",
    "    res = []\n",
    "    while l < r and bottom < top:\n",
    "        #get every i in first row\n",
    "        for i in range(left , right):\n",
    "            res.append(matrix[top][i])\n",
    "        top +=1\n",
    "        #get every i in right column\n",
    "        for i in range(top, bottom):\n",
    "            res.append(matrix[i][right-1])\n",
    "        right -=1\n",
    "        #get every i in bottom row\n",
    "        for i in range(right-1, left-1, -1):\n",
    "            res.append(matrix[bottom-1][i])\n",
    "        bottom -=1\n",
    "        #get every i in left col\n",
    "        for i in range(bottom-1, top-1, -1):\n",
    "            res.append(matrix[i][left])\n",
    "        left +=1\n",
    "    return res\n",
    "        \n",
    "        \n",
    "        "
   ]
  },
  {
   "cell_type": "code",
   "execution_count": null,
   "id": "7ca265f5",
   "metadata": {},
   "outputs": [],
   "source": []
  }
 ],
 "metadata": {
  "kernelspec": {
   "display_name": "Python 3 (ipykernel)",
   "language": "python",
   "name": "python3"
  },
  "language_info": {
   "codemirror_mode": {
    "name": "ipython",
    "version": 3
   },
   "file_extension": ".py",
   "mimetype": "text/x-python",
   "name": "python",
   "nbconvert_exporter": "python",
   "pygments_lexer": "ipython3",
   "version": "3.8.10"
  }
 },
 "nbformat": 4,
 "nbformat_minor": 5
}
