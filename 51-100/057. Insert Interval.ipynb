{
 "cells": [
  {
   "cell_type": "raw",
   "id": "9987239d",
   "metadata": {},
   "source": [
    "You are given an array of non-overlapping intervals intervals where intervals[i] = [starti, endi] represent the start and the end of the ith interval and intervals is sorted in ascending order by starti. You are also given an interval newInterval = [start, end] that represents the start and end of another interval.\n",
    "\n",
    "Insert newInterval into intervals such that intervals is still sorted in ascending order by starti and intervals still does not have any overlapping intervals (merge overlapping intervals if necessary).\n",
    "\n",
    "Return intervals after the insertion.# insert intervals \n",
    "# check all those three positions that a new interval might come - before - after - between"
   ]
  },
  {
   "cell_type": "code",
   "execution_count": 4,
   "id": "697812b4",
   "metadata": {},
   "outputs": [],
   "source": [
    "#intervals should be sorted\n",
    "def insert(intervals, newInterval):\n",
    "    res = []\n",
    "    for i in range(len(intervals)):\n",
    "        #if newinterval is less than the intervals\n",
    "        #and comes first\n",
    "        if newInterval[1] < intervals[i][0]:\n",
    "            res.append(newInterval)\n",
    "            return res+intervals[i:]\n",
    "        #new interval comes after intervals\n",
    "        elif newInterval[0] > intervals[i][1]:\n",
    "            res.append(intervals[i])\n",
    "        #if comes in between\n",
    "        else:\n",
    "            newInterval = [min(newInterval[0], intervals[i][0]), max(newInterval[1], intervals[i][1])]\n",
    "\n",
    "\n",
    "    res.append(newInterval)\n",
    "    return res"
   ]
  },
  {
   "cell_type": "code",
   "execution_count": 5,
   "id": "986204e3",
   "metadata": {},
   "outputs": [
    {
     "data": {
      "text/plain": [
       "[[1, 5], [6, 9]]"
      ]
     },
     "execution_count": 5,
     "metadata": {},
     "output_type": "execute_result"
    }
   ],
   "source": [
    "insert([[1,3],[6,9]], [2,5])"
   ]
  },
  {
   "cell_type": "code",
   "execution_count": null,
   "id": "60059f52",
   "metadata": {},
   "outputs": [],
   "source": []
  }
 ],
 "metadata": {
  "kernelspec": {
   "display_name": "Python 3 (ipykernel)",
   "language": "python",
   "name": "python3"
  },
  "language_info": {
   "codemirror_mode": {
    "name": "ipython",
    "version": 3
   },
   "file_extension": ".py",
   "mimetype": "text/x-python",
   "name": "python",
   "nbconvert_exporter": "python",
   "pygments_lexer": "ipython3",
   "version": "3.8.10"
  }
 },
 "nbformat": 4,
 "nbformat_minor": 5
}
