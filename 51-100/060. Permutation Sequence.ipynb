{
 "cells": [
  {
   "cell_type": "raw",
   "id": "b4129419",
   "metadata": {},
   "source": [
    "The set [1, 2, 3, ..., n] contains a total of n! unique permutations.\n",
    "\n",
    "By listing and labeling all of the permutations in order, we get the following sequence for n = 3:\n",
    "\n",
    "    \"123\"\n",
    "    \"132\"\n",
    "    \"213\"\n",
    "    \"231\"\n",
    "    \"312\"\n",
    "    \"321\"\n",
    "\n",
    "Given n and k, return the kth permutation sequence.\n",
    "\n",
    " "
   ]
  },
  {
   "cell_type": "code",
   "execution_count": 1,
   "id": "227e3fec",
   "metadata": {},
   "outputs": [],
   "source": [
    "def getPermutation( n, k):\n",
    "    res = ''\n",
    "    nums = [i + 1 for i in range(n)]\n",
    "    factorial = [1] * (n + 1)  # factorial[i] == i!\n",
    "\n",
    "    for i in range(2, n + 1):\n",
    "      factorial[i] = factorial[i - 1] * i\n",
    "\n",
    "    k -= 1  # 0-indexed\n",
    "\n",
    "    for i in reversed(range(n)):\n",
    "      j = k // factorial[i]\n",
    "      k %= factorial[i]\n",
    "      res += str(nums[j])\n",
    "      nums.pop(j)\n",
    "\n",
    "    return res"
   ]
  },
  {
   "cell_type": "code",
   "execution_count": null,
   "id": "59a06b58",
   "metadata": {},
   "outputs": [],
   "source": []
  }
 ],
 "metadata": {
  "kernelspec": {
   "display_name": "Python 3 (ipykernel)",
   "language": "python",
   "name": "python3"
  },
  "language_info": {
   "codemirror_mode": {
    "name": "ipython",
    "version": 3
   },
   "file_extension": ".py",
   "mimetype": "text/x-python",
   "name": "python",
   "nbconvert_exporter": "python",
   "pygments_lexer": "ipython3",
   "version": "3.8.10"
  }
 },
 "nbformat": 4,
 "nbformat_minor": 5
}
