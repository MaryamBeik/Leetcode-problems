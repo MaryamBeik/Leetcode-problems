{
 "cells": [
  {
   "cell_type": "raw",
   "id": "dd26aa8f",
   "metadata": {},
   "source": [
    "The n-queens puzzle is the problem of placing n queens on an n x n chessboard such that no two queens attack each other.\n",
    "\n",
    "Given an integer n, return the number of distinct solutions to the n-queens puzzle.\n",
    "\n",
    " "
   ]
  },
  {
   "cell_type": "code",
   "execution_count": 1,
   "id": "4c0ea736",
   "metadata": {},
   "outputs": [],
   "source": [
    "def totalNQueens(n):\n",
    "    col = set()\n",
    "    posDiag = set() #(r+c)\n",
    "    negDiag = set() #(r-c)\n",
    "    res = 0\n",
    "    def backtracking(r):\n",
    "        if r==n:\n",
    "            nonlocal res\n",
    "            res +=1\n",
    "            return\n",
    "        for c in range(n):\n",
    "            if c in cols or (r+c ) in posDiag or (r-c) in negDiag:\n",
    "                continue\n",
    "            col.add(c)\n",
    "            posDiag.add(r+c)\n",
    "            negDiag.add(r-c)\n",
    "            backtracking(r+1)\n",
    "            col.remove(c)\n",
    "            posDiag.remove(r+c)\n",
    "            negDiag.remove(r-c)\n",
    "    backtracking(0)\n",
    "    return res\n",
    "            \n",
    "            \n",
    "                "
   ]
  },
  {
   "cell_type": "code",
   "execution_count": null,
   "id": "1dd1043d",
   "metadata": {},
   "outputs": [],
   "source": []
  }
 ],
 "metadata": {
  "kernelspec": {
   "display_name": "Python 3 (ipykernel)",
   "language": "python",
   "name": "python3"
  },
  "language_info": {
   "codemirror_mode": {
    "name": "ipython",
    "version": 3
   },
   "file_extension": ".py",
   "mimetype": "text/x-python",
   "name": "python",
   "nbconvert_exporter": "python",
   "pygments_lexer": "ipython3",
   "version": "3.8.10"
  }
 },
 "nbformat": 4,
 "nbformat_minor": 5
}
