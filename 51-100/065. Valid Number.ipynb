{
 "cells": [
  {
   "cell_type": "raw",
   "id": "febec419",
   "metadata": {},
   "source": [
    "A valid number can be split up into these components (in order):\n",
    "\n",
    "    A decimal number or an integer.\n",
    "    (Optional) An 'e' or 'E', followed by an integer.\n",
    "\n",
    "A decimal number can be split up into these components (in order):\n",
    "\n",
    "    (Optional) A sign character (either '+' or '-').\n",
    "    One of the following formats:\n",
    "        One or more digits, followed by a dot '.'.\n",
    "        One or more digits, followed by a dot '.', followed by one or more digits.\n",
    "        A dot '.', followed by one or more digits.\n",
    "\n",
    "An integer can be split up into these components (in order):\n",
    "\n",
    "    (Optional) A sign character (either '+' or '-').\n",
    "    One or more digits.\n"
   ]
  },
  {
   "cell_type": "code",
   "execution_count": 1,
   "id": "b3f3cd54",
   "metadata": {},
   "outputs": [],
   "source": [
    "def isNumber( s):\n",
    "    s = s.strip()\n",
    "    if not s:\n",
    "      return False\n",
    "\n",
    "    seenNum = False\n",
    "    seenDot = False\n",
    "    seenE = False\n",
    "\n",
    "    for i, c in enumerate(s):\n",
    "      if c == '.':\n",
    "        if seenDot or seenE:\n",
    "          return False\n",
    "        seenDot = True\n",
    "      elif c == 'e':\n",
    "        if seenE or not seenNum:\n",
    "          return False\n",
    "        seenE = True\n",
    "        seenNum = False\n",
    "      elif c in '+-':\n",
    "        if i > 0 and s[i - 1] != 'e':\n",
    "          return False\n",
    "        seenNum = False\n",
    "      else:\n",
    "        if not c.isdigit():\n",
    "          return False\n",
    "        seenNum = True\n",
    "\n",
    "    return seenNum"
   ]
  },
  {
   "cell_type": "code",
   "execution_count": null,
   "id": "3c5daed2",
   "metadata": {},
   "outputs": [],
   "source": []
  }
 ],
 "metadata": {
  "kernelspec": {
   "display_name": "Python 3 (ipykernel)",
   "language": "python",
   "name": "python3"
  },
  "language_info": {
   "codemirror_mode": {
    "name": "ipython",
    "version": 3
   },
   "file_extension": ".py",
   "mimetype": "text/x-python",
   "name": "python",
   "nbconvert_exporter": "python",
   "pygments_lexer": "ipython3",
   "version": "3.8.10"
  }
 },
 "nbformat": 4,
 "nbformat_minor": 5
}
