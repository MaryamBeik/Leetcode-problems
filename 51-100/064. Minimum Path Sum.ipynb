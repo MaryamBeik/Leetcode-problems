{
 "cells": [
  {
   "cell_type": "raw",
   "id": "90476320",
   "metadata": {},
   "source": [
    "Given a m x n grid filled with non-negative numbers, find a path from top left to bottom right, which minimizes the sum of all numbers along its path."
   ]
  },
  {
   "cell_type": "code",
   "execution_count": 1,
   "id": "d28d15ce",
   "metadata": {},
   "outputs": [],
   "source": [
    "def minPathSum( grid):\n",
    "    m = len(grid)\n",
    "    n = len(grid[0])\n",
    "\n",
    "    for i in range(m):\n",
    "      for j in range(n):\n",
    "        if i > 0 and j > 0:\n",
    "          grid[i][j] += min(grid[i - 1][j], grid[i][j - 1])\n",
    "        elif i > 0:\n",
    "          grid[i][0] += grid[i - 1][0]\n",
    "        elif j > 0:\n",
    "          grid[0][j] += grid[0][j - 1]\n",
    "\n",
    "    return grid[m - 1][n - 1]"
   ]
  },
  {
   "cell_type": "code",
   "execution_count": null,
   "id": "b32da2fe",
   "metadata": {},
   "outputs": [],
   "source": []
  }
 ],
 "metadata": {
  "kernelspec": {
   "display_name": "Python 3 (ipykernel)",
   "language": "python",
   "name": "python3"
  },
  "language_info": {
   "codemirror_mode": {
    "name": "ipython",
    "version": 3
   },
   "file_extension": ".py",
   "mimetype": "text/x-python",
   "name": "python",
   "nbconvert_exporter": "python",
   "pygments_lexer": "ipython3",
   "version": "3.8.10"
  }
 },
 "nbformat": 4,
 "nbformat_minor": 5
}
