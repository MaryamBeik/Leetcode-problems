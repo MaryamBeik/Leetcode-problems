{
 "cells": [
  {
   "cell_type": "raw",
   "id": "ee6789da",
   "metadata": {},
   "source": [
    "Given the head of a linked list, rotate the list to the right by k places."
   ]
  },
  {
   "cell_type": "code",
   "execution_count": 1,
   "id": "9256d8f9",
   "metadata": {},
   "outputs": [],
   "source": [
    "def rotateRight(self, head, k):\n",
    "        \"\"\"\n",
    "        :type head: ListNode\n",
    "        :type k: int\n",
    "        :rtype: ListNode\n",
    "        \"\"\"\n",
    "        if not head:\n",
    "            return head\n",
    "        length , tail = 1, head\n",
    "        while tail.next:\n",
    "            tail = tail.next\n",
    "            length +=1\n",
    "        k = k %length\n",
    "        if k ==0:\n",
    "            return head\n",
    "        curr = head\n",
    "        for i in range(length-k-1):\n",
    "            curr = curr.next\n",
    "        newHead = curr.next\n",
    "        curr.next = None\n",
    "        tail.next = head\n",
    "        return newHead"
   ]
  },
  {
   "cell_type": "code",
   "execution_count": null,
   "id": "85cdf424",
   "metadata": {},
   "outputs": [],
   "source": []
  }
 ],
 "metadata": {
  "kernelspec": {
   "display_name": "Python 3 (ipykernel)",
   "language": "python",
   "name": "python3"
  },
  "language_info": {
   "codemirror_mode": {
    "name": "ipython",
    "version": 3
   },
   "file_extension": ".py",
   "mimetype": "text/x-python",
   "name": "python",
   "nbconvert_exporter": "python",
   "pygments_lexer": "ipython3",
   "version": "3.8.10"
  }
 },
 "nbformat": 4,
 "nbformat_minor": 5
}
