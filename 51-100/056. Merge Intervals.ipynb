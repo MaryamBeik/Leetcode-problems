{
 "cells": [
  {
   "cell_type": "code",
   "execution_count": 1,
   "id": "a7971fc5",
   "metadata": {},
   "outputs": [],
   "source": [
    "#merge intervals"
   ]
  },
  {
   "cell_type": "code",
   "execution_count": 2,
   "id": "bcc961d8",
   "metadata": {},
   "outputs": [],
   "source": [
    "def mergeIntervals(intervals):\n",
    "    #sort by start value - O(nlogn)\n",
    "    intervals.sort(key= lambda x:x[0])\n",
    "    res = [intervals[0]]\n",
    "    for start , end in intervals[1:]:\n",
    "        lastEnd = res[-1][1]\n",
    "        if start <= lastEnd:\n",
    "            #overlap\n",
    "            res[-1][1] = max(lastEnd, end)\n",
    "        else:\n",
    "            res.append([start, end])\n",
    "    return res"
   ]
  },
  {
   "cell_type": "code",
   "execution_count": 3,
   "id": "438a431d",
   "metadata": {},
   "outputs": [
    {
     "data": {
      "text/plain": [
       "[[1, 6]]"
      ]
     },
     "execution_count": 3,
     "metadata": {},
     "output_type": "execute_result"
    }
   ],
   "source": [
    " mergeIntervals([[1,4],[4,6]]) "
   ]
  },
  {
   "cell_type": "code",
   "execution_count": null,
   "id": "73716bd0",
   "metadata": {},
   "outputs": [],
   "source": [
    " def merge(self, intervals):\n",
    "     \n",
    "        intervals.sort(key = lambda x:x[0])\n",
    "        res =[]\n",
    "        res.append(intervals[0])\n",
    "        for s,e in intervals[1:]:\n",
    "            last = res[-1]\n",
    "            if s <= last[1]:\n",
    "                #merge them\n",
    "                last[1] = max(e, last[1])\n",
    "            else:\n",
    "                res.append([s,e])\n",
    "        return res"
   ]
  }
 ],
 "metadata": {
  "kernelspec": {
   "display_name": "Python 3 (ipykernel)",
   "language": "python",
   "name": "python3"
  },
  "language_info": {
   "codemirror_mode": {
    "name": "ipython",
    "version": 3
   },
   "file_extension": ".py",
   "mimetype": "text/x-python",
   "name": "python",
   "nbconvert_exporter": "python",
   "pygments_lexer": "ipython3",
   "version": "3.8.10"
  }
 },
 "nbformat": 4,
 "nbformat_minor": 5
}
