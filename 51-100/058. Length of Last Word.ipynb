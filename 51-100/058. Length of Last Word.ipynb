{
 "cells": [
  {
   "cell_type": "raw",
   "id": "def4b4a5",
   "metadata": {},
   "source": [
    "Given a string s consisting of words and spaces, return the length of the last word in the string.\n",
    "\n",
    "A word is a maximal substring consisting of non-space characters only.\n",
    "\n",
    " "
   ]
  },
  {
   "cell_type": "code",
   "execution_count": 3,
   "id": "f703d700",
   "metadata": {},
   "outputs": [],
   "source": [
    "def lengthOfLastWord( s):\n",
    "    i = len(s) - 1\n",
    "\n",
    "    while i >= 0 and s[i] == ' ':\n",
    "      i -= 1\n",
    "    lastIndex = i\n",
    "    while i >= 0 and s[i] != ' ':\n",
    "      i -= 1\n",
    "\n",
    "    return lastIndex - i"
   ]
  },
  {
   "cell_type": "code",
   "execution_count": 5,
   "id": "d1715a52",
   "metadata": {},
   "outputs": [
    {
     "data": {
      "text/plain": [
       "6"
      ]
     },
     "execution_count": 5,
     "metadata": {},
     "output_type": "execute_result"
    }
   ],
   "source": [
    "lengthOfLastWord(\"luffy is still joyboy\")"
   ]
  },
  {
   "cell_type": "code",
   "execution_count": null,
   "id": "35083f3c",
   "metadata": {},
   "outputs": [],
   "source": []
  }
 ],
 "metadata": {
  "kernelspec": {
   "display_name": "Python 3 (ipykernel)",
   "language": "python",
   "name": "python3"
  },
  "language_info": {
   "codemirror_mode": {
    "name": "ipython",
    "version": 3
   },
   "file_extension": ".py",
   "mimetype": "text/x-python",
   "name": "python",
   "nbconvert_exporter": "python",
   "pygments_lexer": "ipython3",
   "version": "3.8.10"
  }
 },
 "nbformat": 4,
 "nbformat_minor": 5
}
