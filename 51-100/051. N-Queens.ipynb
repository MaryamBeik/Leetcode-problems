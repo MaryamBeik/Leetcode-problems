{
 "cells": [
  {
   "cell_type": "raw",
   "id": "85ee96b5",
   "metadata": {},
   "source": [
    "#N- Queens - backtracking\n",
    "The n-queens puzzle is the problem of placing n queens on an n x n chessboard such that no two queens attack each other.\n",
    "\n",
    "Given an integer n, return all distinct solutions to the n-queens puzzle. You may return the answer in any order.\n",
    "\n",
    "Each solution contains a distinct board configuration of the n-queens' placement, where 'Q' and '.' both indicate a queen and an empty space, respectively."
   ]
  },
  {
   "cell_type": "code",
   "execution_count": 6,
   "id": "d4195000",
   "metadata": {},
   "outputs": [],
   "source": [
    "def solveNGueen(n):\n",
    "    cols = set()\n",
    "    negativeDiag=set() # r-c\n",
    "    positiveDiag=set() # r+c\n",
    "    res = []\n",
    "    board =[['.']*n for i in range(n)]\n",
    "    def dfs(r):\n",
    "       if r ==n:\n",
    "            copy = [''.join(row) for row in board]\n",
    "            res.append(copy)\n",
    "            return\n",
    "        \n",
    "            for c in range(n):\n",
    "                if (c  in cols or\n",
    "                    (r-c) in negativeDiag or\n",
    "                    (r+c) in positiveDiag):\n",
    "                    continue\n",
    "                cols.add(c)\n",
    "                negativeDiag.add(r-c)\n",
    "                positiveDiag.add(r+c)\n",
    "                board[r][c] ='Q'\n",
    "                dfs(r+1)\n",
    "                #clean for the next iteration\n",
    "                cols.remove(c)\n",
    "                negativeDiag.remove(r-c)\n",
    "                positiveDiag.remove(r+c)\n",
    "                board[r][c] ='.'\n",
    "    dfs(0)           \n",
    "    return res\n"
   ]
  },
  {
   "cell_type": "code",
   "execution_count": 7,
   "id": "b4ff4707",
   "metadata": {},
   "outputs": [
    {
     "data": {
      "text/plain": [
       "[]"
      ]
     },
     "execution_count": 7,
     "metadata": {},
     "output_type": "execute_result"
    }
   ],
   "source": [
    "solveNGueen(4)"
   ]
  },
  {
   "cell_type": "code",
   "execution_count": null,
   "id": "990c4263",
   "metadata": {},
   "outputs": [],
   "source": []
  },
  {
   "cell_type": "code",
   "execution_count": null,
   "id": "66e3eacc",
   "metadata": {},
   "outputs": [],
   "source": []
  },
  {
   "cell_type": "code",
   "execution_count": null,
   "id": "e12329a8",
   "metadata": {},
   "outputs": [],
   "source": []
  }
 ],
 "metadata": {
  "kernelspec": {
   "display_name": "Python 3 (ipykernel)",
   "language": "python",
   "name": "python3"
  },
  "language_info": {
   "codemirror_mode": {
    "name": "ipython",
    "version": 3
   },
   "file_extension": ".py",
   "mimetype": "text/x-python",
   "name": "python",
   "nbconvert_exporter": "python",
   "pygments_lexer": "ipython3",
   "version": "3.8.10"
  }
 },
 "nbformat": 4,
 "nbformat_minor": 5
}
