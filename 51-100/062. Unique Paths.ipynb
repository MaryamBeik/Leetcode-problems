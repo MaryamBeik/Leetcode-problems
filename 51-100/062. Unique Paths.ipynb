{
 "cells": [
  {
   "cell_type": "raw",
   "id": "09594009",
   "metadata": {},
   "source": [
    "There is a robot on an m x n grid. The robot is initially located at the top-left corner (i.e., grid[0][0]). The robot tries to move to the bottom-right corner (i.e., grid[m - 1][n - 1]). The robot can only move either down or right at any point in time.\n",
    "\n",
    "Given the two integers m and n, return the number of possible unique paths that the robot can take to reach the bottom-right corner.\n",
    "\n",
    "The test cases are generated so that the answer will be less than or equal to 2 * 109.\n",
    "\n"
   ]
  },
  {
   "cell_type": "code",
   "execution_count": 1,
   "id": "f770ce63",
   "metadata": {},
   "outputs": [],
   "source": [
    "def uniquePaths(m,n):\n",
    "    row = [1] *n\n",
    "    for i in range(m-1):\n",
    "        newRow = [1]*n\n",
    "        for j in range(n-2, -1,-1):\n",
    "            newRow[j] = newRow[j+1] + row[j]\n",
    "        row = newRow\n",
    "    return row"
   ]
  },
  {
   "cell_type": "code",
   "execution_count": 2,
   "id": "76f59122",
   "metadata": {},
   "outputs": [],
   "source": [
    "def uniquePaths( m, n) :\n",
    "    dp = [1] * n\n",
    "\n",
    "    for _ in range(1, m):\n",
    "      for j in range(1, n):\n",
    "        dp[j] += dp[j - 1]\n",
    "\n",
    "    return dp[n - 1]"
   ]
  },
  {
   "cell_type": "code",
   "execution_count": null,
   "id": "64d35e4e",
   "metadata": {},
   "outputs": [],
   "source": []
  }
 ],
 "metadata": {
  "kernelspec": {
   "display_name": "Python 3 (ipykernel)",
   "language": "python",
   "name": "python3"
  },
  "language_info": {
   "codemirror_mode": {
    "name": "ipython",
    "version": 3
   },
   "file_extension": ".py",
   "mimetype": "text/x-python",
   "name": "python",
   "nbconvert_exporter": "python",
   "pygments_lexer": "ipython3",
   "version": "3.8.10"
  }
 },
 "nbformat": 4,
 "nbformat_minor": 5
}
