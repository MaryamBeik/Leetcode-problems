{
 "cells": [
  {
   "cell_type": "raw",
   "id": "c06c25c0",
   "metadata": {},
   "source": [
    "You are given an m x n integer array grid. There is a robot initially located at the top-left corner (i.e., grid[0][0]). The robot tries to move to the bottom-right corner (i.e., grid[m-1][n-1]). The robot can only move either down or right at any point in time.\n",
    "\n",
    "An obstacle and space are marked as 1 or 0 respectively in grid. A path that the robot takes cannot include any square that is an obstacle.\n",
    "\n",
    "Return the number of possible unique paths that the robot can take to reach the bottom-right corner."
   ]
  },
  {
   "cell_type": "code",
   "execution_count": 1,
   "id": "18107432",
   "metadata": {},
   "outputs": [],
   "source": [
    "def uniquePathsWithObstacles(obstacleGrid):\n",
    "    m = len(obstacleGrid)\n",
    "    n = len(obstacleGrid[0])\n",
    "    dp = [0] * n\n",
    "    dp[0] = 1\n",
    "\n",
    "    for i in range(m):\n",
    "      for j in range(n):\n",
    "        if obstacleGrid[i][j]:\n",
    "          dp[j] = 0\n",
    "        elif j > 0:\n",
    "          dp[j] += dp[j - 1]\n",
    "\n",
    "    return dp[n - 1]"
   ]
  },
  {
   "cell_type": "code",
   "execution_count": 2,
   "id": "45aed33e",
   "metadata": {},
   "outputs": [
    {
     "data": {
      "text/plain": [
       "2"
      ]
     },
     "execution_count": 2,
     "metadata": {},
     "output_type": "execute_result"
    }
   ],
   "source": [
    "uniquePathsWithObstacles([[0,0,0],[0,1,0],[0,0,0]])"
   ]
  },
  {
   "cell_type": "code",
   "execution_count": null,
   "id": "a0171dcf",
   "metadata": {},
   "outputs": [],
   "source": []
  }
 ],
 "metadata": {
  "kernelspec": {
   "display_name": "Python 3 (ipykernel)",
   "language": "python",
   "name": "python3"
  },
  "language_info": {
   "codemirror_mode": {
    "name": "ipython",
    "version": 3
   },
   "file_extension": ".py",
   "mimetype": "text/x-python",
   "name": "python",
   "nbconvert_exporter": "python",
   "pygments_lexer": "ipython3",
   "version": "3.8.10"
  }
 },
 "nbformat": 4,
 "nbformat_minor": 5
}
