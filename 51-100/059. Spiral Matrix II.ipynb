{
 "cells": [
  {
   "cell_type": "raw",
   "id": "a9891e3f",
   "metadata": {},
   "source": [
    "Given a positive integer n, generate an n x n matrix filled with elements from 1 to n2 in spiral order."
   ]
  },
  {
   "cell_type": "code",
   "execution_count": 3,
   "id": "2ed5bd95",
   "metadata": {},
   "outputs": [],
   "source": [
    "def generateMatrix( n):\n",
    "    res = [[0] * n for _ in range(n)]\n",
    "    count = 1\n",
    "\n",
    "    for min in range(n // 2):\n",
    "      max = n - min - 1\n",
    "      for i in range(min, max):\n",
    "        res[min][i] = count\n",
    "        count += 1\n",
    "      for i in range(min, max):\n",
    "        res[i][max] = count\n",
    "        count += 1\n",
    "      for i in range(max, min, -1):\n",
    "        res[max][i] = count\n",
    "        count += 1\n",
    "      for i in range(max, min, -1):\n",
    "        res[i][min] = count\n",
    "        count += 1\n",
    "\n",
    "    if n & 1:\n",
    "      res[n // 2][n // 2] = count\n",
    "\n",
    "    return res"
   ]
  },
  {
   "cell_type": "code",
   "execution_count": 5,
   "id": "0c6876ae",
   "metadata": {},
   "outputs": [
    {
     "data": {
      "text/plain": [
       "[[1, 2, 3], [8, 9, 4], [7, 6, 5]]"
      ]
     },
     "execution_count": 5,
     "metadata": {},
     "output_type": "execute_result"
    }
   ],
   "source": [
    "generateMatrix(3)"
   ]
  },
  {
   "cell_type": "code",
   "execution_count": null,
   "id": "f0ddfe4c",
   "metadata": {},
   "outputs": [],
   "source": []
  }
 ],
 "metadata": {
  "kernelspec": {
   "display_name": "Python 3 (ipykernel)",
   "language": "python",
   "name": "python3"
  },
  "language_info": {
   "codemirror_mode": {
    "name": "ipython",
    "version": 3
   },
   "file_extension": ".py",
   "mimetype": "text/x-python",
   "name": "python",
   "nbconvert_exporter": "python",
   "pygments_lexer": "ipython3",
   "version": "3.8.10"
  }
 },
 "nbformat": 4,
 "nbformat_minor": 5
}
