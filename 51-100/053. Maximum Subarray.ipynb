{
 "cells": [
  {
   "cell_type": "code",
   "execution_count": null,
   "id": "65ada61c",
   "metadata": {},
   "outputs": [],
   "source": [
    "Given an integer array nums, find the contiguous subarray (containing at least one number) which has the largest sum and return its sum.\n",
    "\n",
    "A subarray is a contiguous part of an array."
   ]
  },
  {
   "cell_type": "raw",
   "id": "c937f347",
   "metadata": {},
   "source": [
    " def maxSubArray(self, nums: List[int]) -> int:\n",
    "        maxSum = float('-inf')\n",
    "        currSum = 0\n",
    "        for n in nums:\n",
    "            currSum= max(n , n+currSum)\n",
    "            maxSum = max(maxSum, currSum)\n",
    "        return maxSum"
   ]
  }
 ],
 "metadata": {
  "kernelspec": {
   "display_name": "Python 3 (ipykernel)",
   "language": "python",
   "name": "python3"
  },
  "language_info": {
   "codemirror_mode": {
    "name": "ipython",
    "version": 3
   },
   "file_extension": ".py",
   "mimetype": "text/x-python",
   "name": "python",
   "nbconvert_exporter": "python",
   "pygments_lexer": "ipython3",
   "version": "3.8.10"
  }
 },
 "nbformat": 4,
 "nbformat_minor": 5
}
