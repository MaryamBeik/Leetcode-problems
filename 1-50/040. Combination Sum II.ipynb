{
 "cells": [
  {
   "cell_type": "raw",
   "id": "d3b7ca74",
   "metadata": {},
   "source": [
    "Given a collection of candidate numbers (candidates) and a target number (target), find all unique combinations in candidates where the candidate numbers sum to target.\n",
    "\n",
    "Each number in candidates may only be used once in the combination."
   ]
  },
  {
   "cell_type": "code",
   "execution_count": 4,
   "id": "d7b41454",
   "metadata": {},
   "outputs": [],
   "source": [
    "def combinationSUM(nums,target ):\n",
    "    nums.sort()\n",
    "    res = []\n",
    "    def dfs(pos, cur, target):\n",
    "        if  target==0:\n",
    "            res.append(cur[::])\n",
    "        if target<= 0: \n",
    "            return\n",
    "        \n",
    "        prev = -1\n",
    "        for i in range(pos, len(nums)):\n",
    "            if nums[i] == prev:\n",
    "                continue\n",
    "            cur.append(nums[i])\n",
    "            dfs(i+1, cur, target- nums[i])\n",
    "            cur.pop()\n",
    "            prev = nums[i]\n",
    "\n",
    "    dfs(0, [], target)\n",
    "    return res"
   ]
  },
  {
   "cell_type": "code",
   "execution_count": 5,
   "id": "3e91a449",
   "metadata": {},
   "outputs": [
    {
     "data": {
      "text/plain": [
       "[[1, 1, 6], [1, 2, 5], [1, 7], [2, 6]]"
      ]
     },
     "execution_count": 5,
     "metadata": {},
     "output_type": "execute_result"
    }
   ],
   "source": [
    "combinationSUM([10,1,2,7,6,1,5],8)"
   ]
  },
  {
   "cell_type": "code",
   "execution_count": null,
   "id": "bc418578",
   "metadata": {},
   "outputs": [],
   "source": []
  }
 ],
 "metadata": {
  "kernelspec": {
   "display_name": "Python 3 (ipykernel)",
   "language": "python",
   "name": "python3"
  },
  "language_info": {
   "codemirror_mode": {
    "name": "ipython",
    "version": 3
   },
   "file_extension": ".py",
   "mimetype": "text/x-python",
   "name": "python",
   "nbconvert_exporter": "python",
   "pygments_lexer": "ipython3",
   "version": "3.8.10"
  }
 },
 "nbformat": 4,
 "nbformat_minor": 5
}
