{
 "cells": [
  {
   "cell_type": "raw",
   "id": "d846a562",
   "metadata": {},
   "source": [
    "Given the head of a linked list, reverse the nodes of the list k at a time, and return the modified list.\n",
    "\n",
    "k is a positive integer and is less than or equal to the length of the linked list. If the number of nodes is not a multiple of k then left-out nodes, in the end, should remain as it is."
   ]
  },
  {
   "cell_type": "code",
   "execution_count": null,
   "id": "5f3bce84",
   "metadata": {},
   "outputs": [],
   "source": [
    "class Solution(object):\n",
    "    def reverseKGroup(self, head, k):\n",
    "        \"\"\"\n",
    "        :type head: ListNode\n",
    "        :type k: int\n",
    "        :rtype: ListNode\n",
    "        \"\"\"\n",
    "        dummy = ListNode(val = 0 , next = head)\n",
    "        left = dummy\n",
    "        \n",
    "        while True:\n",
    "            kth = self.getKth(left, k)\n",
    "            if not kth:\n",
    "                break\n",
    "            nextLeft = kth.next\n",
    "    \n",
    "    \n",
    "            # reverse the k nodes between left and right\n",
    "            prev, curr = kth.next, left.next\n",
    "            while curr!= nextLeft:\n",
    "                temp = curr.next\n",
    "                curr.next= prev\n",
    "                prev = curr\n",
    "                curr= temp\n",
    "            #update the pointers\n",
    "            temp =left.next\n",
    "            left.next = kth\n",
    "            left = temp\n",
    "        return dummy.next\n",
    "\n",
    "        \n",
    "    def getKth(self,node, k):\n",
    "        while node and k >0:\n",
    "            node = node.next\n",
    "            k -=1\n",
    "        return node"
   ]
  },
  {
   "cell_type": "code",
   "execution_count": null,
   "id": "a4bcd0a7",
   "metadata": {},
   "outputs": [],
   "source": [
    "class Solution(object):\n",
    "    def reverseKGroup(self, head, k):\n",
    "        if head is None or k < 2:\n",
    "            return head\n",
    "        dummy = ListNode(0)\n",
    "        dummy.next = head\n",
    "        start = dummy\n",
    "        end = head\n",
    "        count = 0\n",
    "        while end:\n",
    "            count += 1\n",
    "            if count % k == 0:\n",
    "                start = reverse(start, end.next)\n",
    "                end = start.next\n",
    "            else:\n",
    "                end = end.next\n",
    "        return dummy.next\n",
    "    \n",
    "def reverse(start, end):\n",
    "    prev, curr = start, start.next\n",
    "    first = curr\n",
    "    while curr != end:\n",
    "        temp = curr.next\n",
    "        curr.next = prev\n",
    "        prev = curr\n",
    "        curr = temp\n",
    "    start.next = prev\n",
    "    first.next = curr\n",
    "    return first\n"
   ]
  }
 ],
 "metadata": {
  "kernelspec": {
   "display_name": "Python 3 (ipykernel)",
   "language": "python",
   "name": "python3"
  },
  "language_info": {
   "codemirror_mode": {
    "name": "ipython",
    "version": 3
   },
   "file_extension": ".py",
   "mimetype": "text/x-python",
   "name": "python",
   "nbconvert_exporter": "python",
   "pygments_lexer": "ipython3",
   "version": "3.8.10"
  }
 },
 "nbformat": 4,
 "nbformat_minor": 5
}
