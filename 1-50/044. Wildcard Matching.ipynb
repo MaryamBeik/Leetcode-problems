{
 "cells": [
  {
   "cell_type": "raw",
   "id": "3f8b20f4",
   "metadata": {},
   "source": [
    "Given an input string (s) and a pattern (p), implement wildcard pattern matching with support for '?' and '*' where:\n",
    "\n",
    "    '?' Matches any single character.\n",
    "    '*' Matches any sequence of characters (including the empty sequence).\n"
   ]
  },
  {
   "cell_type": "code",
   "execution_count": 2,
   "id": "fecd5814",
   "metadata": {},
   "outputs": [],
   "source": [
    "def isMatched(s,p):\n",
    "    m = len(s)\n",
    "    n = len(p)\n",
    "    # dp[i][j] := True if s[0..i) matches p[0..j)\n",
    "    dp = [[False] * (n + 1) for _ in range(m + 1)]\n",
    "    dp[0][0] = True\n",
    "\n",
    "    def isMatch(i: int, j: int) -> bool:\n",
    "      return i >= 0 and p[j] == '?' or s[i] == p[j]\n",
    "\n",
    "    for j, c in enumerate(p):\n",
    "      if c == '*':\n",
    "        dp[0][j + 1] = dp[0][j]\n",
    "\n",
    "    for i in range(m):\n",
    "      for j in range(n):\n",
    "        if p[j] == '*':\n",
    "          matchEmpty = dp[i + 1][j]\n",
    "          matchSome = dp[i][j + 1]\n",
    "          dp[i + 1][j + 1] = matchEmpty or matchSome\n",
    "        elif isMatch(i, j):\n",
    "          dp[i + 1][j + 1] = dp[i][j]\n",
    "\n",
    "    return dp[m][n]"
   ]
  },
  {
   "cell_type": "code",
   "execution_count": 3,
   "id": "064af529",
   "metadata": {},
   "outputs": [
    {
     "data": {
      "text/plain": [
       "False"
      ]
     },
     "execution_count": 3,
     "metadata": {},
     "output_type": "execute_result"
    }
   ],
   "source": [
    "isMatched('cb', '?a')"
   ]
  },
  {
   "cell_type": "code",
   "execution_count": null,
   "id": "26d9c061",
   "metadata": {},
   "outputs": [],
   "source": []
  },
  {
   "cell_type": "code",
   "execution_count": null,
   "id": "f0ff5c91",
   "metadata": {},
   "outputs": [],
   "source": []
  }
 ],
 "metadata": {
  "kernelspec": {
   "display_name": "Python 3 (ipykernel)",
   "language": "python",
   "name": "python3"
  },
  "language_info": {
   "codemirror_mode": {
    "name": "ipython",
    "version": 3
   },
   "file_extension": ".py",
   "mimetype": "text/x-python",
   "name": "python",
   "nbconvert_exporter": "python",
   "pygments_lexer": "ipython3",
   "version": "3.8.10"
  }
 },
 "nbformat": 4,
 "nbformat_minor": 5
}
