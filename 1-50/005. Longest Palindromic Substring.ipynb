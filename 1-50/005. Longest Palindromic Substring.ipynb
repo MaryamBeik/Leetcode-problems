{
 "cells": [
  {
   "cell_type": "raw",
   "id": "38d04604",
   "metadata": {},
   "source": [
    "Given a string s, return the longest palindromic substring in s."
   ]
  },
  {
   "cell_type": "code",
   "execution_count": 2,
   "id": "0179b995",
   "metadata": {},
   "outputs": [],
   "source": [
    "def longsetPalindromicSubstr(s):\n",
    "    res = ''\n",
    "    lenRes = 0\n",
    "    for i in range(len(s)):\n",
    "        #odd number of s\n",
    "        l ,r = i,i\n",
    "        while l>= 0 and r < len(s) and s[l] == s[r]:\n",
    "            if (r-l+1) > lenRes:\n",
    "                res = s[l:r+1]\n",
    "                lenRes = r-l+1\n",
    "            l -=1\n",
    "            r +=1\n",
    "        #even number of s\n",
    "        l ,r = i, i+1\n",
    "        while l>= 0 and r <len(s) and s[l] == s[r]:\n",
    "            if (r-l+1) > lenRes:\n",
    "                res = s[l:r+1]\n",
    "                lenRes = r-l+1\n",
    "            l -=1\n",
    "            r +=1\n",
    "    return res"
   ]
  },
  {
   "cell_type": "code",
   "execution_count": 3,
   "id": "e4f7f6e7",
   "metadata": {},
   "outputs": [
    {
     "data": {
      "text/plain": [
       "'bb'"
      ]
     },
     "execution_count": 3,
     "metadata": {},
     "output_type": "execute_result"
    }
   ],
   "source": [
    "longsetPalindromicSubstr('cbbd')"
   ]
  },
  {
   "cell_type": "code",
   "execution_count": 4,
   "id": "96693b19",
   "metadata": {},
   "outputs": [
    {
     "data": {
      "text/plain": [
       "'bab'"
      ]
     },
     "execution_count": 4,
     "metadata": {},
     "output_type": "execute_result"
    }
   ],
   "source": [
    "longsetPalindromicSubstr('babad')"
   ]
  },
  {
   "cell_type": "code",
   "execution_count": null,
   "id": "f1e70989",
   "metadata": {},
   "outputs": [],
   "source": []
  }
 ],
 "metadata": {
  "kernelspec": {
   "display_name": "Python 3 (ipykernel)",
   "language": "python",
   "name": "python3"
  },
  "language_info": {
   "codemirror_mode": {
    "name": "ipython",
    "version": 3
   },
   "file_extension": ".py",
   "mimetype": "text/x-python",
   "name": "python",
   "nbconvert_exporter": "python",
   "pygments_lexer": "ipython3",
   "version": "3.8.10"
  }
 },
 "nbformat": 4,
 "nbformat_minor": 5
}
