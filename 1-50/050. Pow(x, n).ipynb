{
 "cells": [
  {
   "cell_type": "raw",
   "id": "1d4cd43b",
   "metadata": {},
   "source": [
    "Implement pow(x, n), which calculates x raised to the power n (i.e., xn).\n",
    "#power(2, 3) = 2^3 = 9"
   ]
  },
  {
   "cell_type": "code",
   "execution_count": 2,
   "id": "a1ef0f5a",
   "metadata": {},
   "outputs": [],
   "source": [
    "def pow(x,n):\n",
    "    #x^ n\n",
    "    def helper(x,n):\n",
    "        if x ==0: return 0\n",
    "        if n ==0: return 1\n",
    "        if n ==1: return x\n",
    "        #if n is even - 2,4,6,...\n",
    "        if n%2 ==0:\n",
    "            return helper(x, n//2)*helper(x, n//2)\n",
    "        #if n in odd - 3,5,7,...\n",
    "        return x * helper(x, n//2) * helper(x, n//2)\n",
    "        \n",
    "\n",
    "    return helper(x, abs(n)) if n > 0 else 1 / helper(x, abs(n))"
   ]
  },
  {
   "cell_type": "code",
   "execution_count": 6,
   "id": "f695582c",
   "metadata": {},
   "outputs": [
    {
     "data": {
      "text/plain": [
       "3"
      ]
     },
     "execution_count": 6,
     "metadata": {},
     "output_type": "execute_result"
    }
   ],
   "source": [
    "pow(3,1)"
   ]
  },
  {
   "cell_type": "code",
   "execution_count": null,
   "id": "ea511c8b",
   "metadata": {},
   "outputs": [],
   "source": []
  },
  {
   "cell_type": "code",
   "execution_count": null,
   "id": "085ebdd4",
   "metadata": {},
   "outputs": [],
   "source": []
  }
 ],
 "metadata": {
  "kernelspec": {
   "display_name": "Python 3 (ipykernel)",
   "language": "python",
   "name": "python3"
  },
  "language_info": {
   "codemirror_mode": {
    "name": "ipython",
    "version": 3
   },
   "file_extension": ".py",
   "mimetype": "text/x-python",
   "name": "python",
   "nbconvert_exporter": "python",
   "pygments_lexer": "ipython3",
   "version": "3.8.10"
  }
 },
 "nbformat": 4,
 "nbformat_minor": 5
}
