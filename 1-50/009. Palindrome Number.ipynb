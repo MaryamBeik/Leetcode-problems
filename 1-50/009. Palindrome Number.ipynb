{
 "cells": [
  {
   "cell_type": "raw",
   "id": "be21b2ce",
   "metadata": {},
   "source": [
    "Given an integer x, return true if x is palindrome integer.\n",
    "\n",
    "An integer is a palindrome when it reads the same backward as forward.\n"
   ]
  },
  {
   "cell_type": "code",
   "execution_count": null,
   "id": "1635d296",
   "metadata": {},
   "outputs": [],
   "source": [
    "def isPalindrome( x):\n",
    "    if x<0:return False\n",
    "    y = 0\n",
    "    temp = x\n",
    "    while temp:\n",
    "        y = (y*10) + (temp % 10)\n",
    "        temp //= 10\n",
    "    return x==y"
   ]
  }
 ],
 "metadata": {
  "kernelspec": {
   "display_name": "Python 3 (ipykernel)",
   "language": "python",
   "name": "python3"
  },
  "language_info": {
   "codemirror_mode": {
    "name": "ipython",
    "version": 3
   },
   "file_extension": ".py",
   "mimetype": "text/x-python",
   "name": "python",
   "nbconvert_exporter": "python",
   "pygments_lexer": "ipython3",
   "version": "3.8.10"
  }
 },
 "nbformat": 4,
 "nbformat_minor": 5
}
