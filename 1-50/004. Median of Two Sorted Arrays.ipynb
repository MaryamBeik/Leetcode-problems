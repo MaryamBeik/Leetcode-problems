{
 "cells": [
  {
   "cell_type": "raw",
   "id": "ff296a08",
   "metadata": {},
   "source": [
    "Given two sorted arrays nums1 and nums2 of size m and n respectively, return the median of the two sorted arrays."
   ]
  },
  {
   "cell_type": "code",
   "execution_count": 1,
   "id": "9d4cb714",
   "metadata": {},
   "outputs": [],
   "source": [
    "def findMedian(nums1,nums2):\n",
    "    A , B = nums1 , nums2\n",
    "    total = len(nums1) + len(nums2)\n",
    "    half = total //2\n",
    "    if len(B) < len(A):\n",
    "        A, B = B, A\n",
    "        \n",
    "    lA , rA = 0 , len(A)-1\n",
    "    lB , rB = 0, len(B)-1\n",
    "    while True:\n",
    "        midA = (lA +rA) //2\n",
    "        midB = half - midA - 2 #(lB+rB) //2 \n",
    "        \n",
    "        leftA = A[midA] if midA >= 0 else float('-infinity')\n",
    "        rightA = A[midA+1] if (midA+1) < len(A) else float('infinity')\n",
    "        \n",
    "        leftB = B[midB] if midB >= 0 else float('-infinity')\n",
    "        rightB = B[midB+1] if (midB+1) < len(B) else float('infinity')\n",
    "        \n",
    "        #if correct partition\n",
    "        if leftA <= rightB and leftB <= rightA:\n",
    "            #odd number of total length\n",
    "            if total%2:\n",
    "                return min(rightA, rightB)\n",
    "            #even number of total length\n",
    "            return (max(leftA,leftB ) + min(rightA, rightB)) /2\n",
    "        elif leftA > rightB:\n",
    "            r = midA -1\n",
    "        else:\n",
    "            l = midA +1"
   ]
  },
  {
   "cell_type": "code",
   "execution_count": null,
   "id": "89a93c0f",
   "metadata": {},
   "outputs": [],
   "source": [
    "findMedian([1,3],[2])"
   ]
  },
  {
   "cell_type": "code",
   "execution_count": null,
   "id": "f22e7f26",
   "metadata": {},
   "outputs": [],
   "source": []
  },
  {
   "cell_type": "code",
   "execution_count": null,
   "id": "c0fad70e",
   "metadata": {},
   "outputs": [],
   "source": []
  }
 ],
 "metadata": {
  "kernelspec": {
   "display_name": "Python 3 (ipykernel)",
   "language": "python",
   "name": "python3"
  },
  "language_info": {
   "codemirror_mode": {
    "name": "ipython",
    "version": 3
   },
   "file_extension": ".py",
   "mimetype": "text/x-python",
   "name": "python",
   "nbconvert_exporter": "python",
   "pygments_lexer": "ipython3",
   "version": "3.8.10"
  }
 },
 "nbformat": 4,
 "nbformat_minor": 5
}
