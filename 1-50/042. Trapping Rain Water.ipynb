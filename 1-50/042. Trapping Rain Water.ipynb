{
 "cells": [
  {
   "cell_type": "raw",
   "id": "004aa2e1",
   "metadata": {},
   "source": [
    "Given n non-negative integers representing an elevation map where the width of each bar is 1, compute how much water it can trap after raining."
   ]
  },
  {
   "cell_type": "code",
   "execution_count": 1,
   "id": "7d7a4504",
   "metadata": {},
   "outputs": [],
   "source": [
    "def trappingWater (heights):\n",
    "    if not heights :\n",
    "        return 0\n",
    "    #Array of left max\n",
    "    Lmax =[0]*len(heights)\n",
    "    Lmax[0] = heights[0]\n",
    "    for i in range(1, len(heights)):\n",
    "        Lmax[i] = max(heights[i],Lmax[i-1])\n",
    "    \n",
    "    #Array of right max\n",
    "    Rmax = [0]*len(heights)\n",
    "    Rmax[len(heights)-1] = heights[len(heights)-1]\n",
    "    for i in range(len(heights)-2,-1,-1):\n",
    "        Rmax[i] = max(heights[i],Rmax[i+1])\n",
    "    #scan true the heights and calcute the max trapped water in each height\n",
    "    maxWater =0\n",
    "    \n",
    "    for i in range(1,len(heights)-1):\n",
    "        maxWater= maxWater + (min(Lmax[i], Rmax[i]) - heights[i])\n",
    "    return maxWater\n",
    "        "
   ]
  },
  {
   "cell_type": "code",
   "execution_count": 2,
   "id": "b709de8b",
   "metadata": {},
   "outputs": [
    {
     "data": {
      "text/plain": [
       "6"
      ]
     },
     "execution_count": 2,
     "metadata": {},
     "output_type": "execute_result"
    }
   ],
   "source": [
    "trappingWater([0,1,0,2,1,0,1,3,2,1,2,1])"
   ]
  },
  {
   "cell_type": "code",
   "execution_count": null,
   "id": "2ea8a633",
   "metadata": {},
   "outputs": [],
   "source": []
  }
 ],
 "metadata": {
  "kernelspec": {
   "display_name": "Python 3 (ipykernel)",
   "language": "python",
   "name": "python3"
  },
  "language_info": {
   "codemirror_mode": {
    "name": "ipython",
    "version": 3
   },
   "file_extension": ".py",
   "mimetype": "text/x-python",
   "name": "python",
   "nbconvert_exporter": "python",
   "pygments_lexer": "ipython3",
   "version": "3.8.10"
  }
 },
 "nbformat": 4,
 "nbformat_minor": 5
}
