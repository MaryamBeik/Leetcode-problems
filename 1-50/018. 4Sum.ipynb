{
 "cells": [
  {
   "cell_type": "raw",
   "id": "056e2199",
   "metadata": {},
   "source": [
    "#4sum\n",
    "Given an array nums of n integers, return an array of all the unique quadruplets [nums[a], nums[b], nums[c], nums[d]] such that:\n",
    "\n",
    "    0 <= a, b, c, d < n\n",
    "    a, b, c, and d are distinct.\n",
    "    nums[a] + nums[b] + nums[c] + nums[d] == target\n"
   ]
  },
  {
   "cell_type": "code",
   "execution_count": 8,
   "id": "10ff47f4",
   "metadata": {},
   "outputs": [],
   "source": [
    "def fourSum(nums, target):\n",
    "    nums.sort()\n",
    "    res, quad = [],[]\n",
    "    def kSum(k, start, target):\n",
    "        if k!=2:\n",
    "            for i in range(start, len(nums)-k+1):\n",
    "                if i>start and nums[i]==nums[i-1]:\n",
    "                    continue\n",
    "                quad.append(nums[i])\n",
    "                kSum(k-1, i+1, target-nums[i])\n",
    "                quad.pop()\n",
    "            return\n",
    "        l, r = start, len(nums)-1\n",
    "        while l <r:\n",
    "            if nums[l] + nums[r] < target:\n",
    "                l +=1\n",
    "            elif nums[l]+nums[r] > target:\n",
    "                r -=1\n",
    "            else:\n",
    "                res.append(quad +[nums[l], nums[r]])\n",
    "                l+=1\n",
    "                while l<r and nums[l] ==nums[l-1]:\n",
    "                    l +=1\n",
    "    kSum(4,0,target)\n",
    "    return res\n",
    "                "
   ]
  },
  {
   "cell_type": "code",
   "execution_count": 9,
   "id": "6c29b496",
   "metadata": {},
   "outputs": [
    {
     "data": {
      "text/plain": [
       "[[2, 2, 2, 2]]"
      ]
     },
     "execution_count": 9,
     "metadata": {},
     "output_type": "execute_result"
    }
   ],
   "source": [
    "fourSum([2,2,2,2,2],8)"
   ]
  },
  {
   "cell_type": "code",
   "execution_count": null,
   "id": "2b60e186",
   "metadata": {},
   "outputs": [],
   "source": []
  }
 ],
 "metadata": {
  "kernelspec": {
   "display_name": "Python 3 (ipykernel)",
   "language": "python",
   "name": "python3"
  },
  "language_info": {
   "codemirror_mode": {
    "name": "ipython",
    "version": 3
   },
   "file_extension": ".py",
   "mimetype": "text/x-python",
   "name": "python",
   "nbconvert_exporter": "python",
   "pygments_lexer": "ipython3",
   "version": "3.8.10"
  }
 },
 "nbformat": 4,
 "nbformat_minor": 5
}
