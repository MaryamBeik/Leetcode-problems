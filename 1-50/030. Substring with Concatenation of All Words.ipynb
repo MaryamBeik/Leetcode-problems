{
 "cells": [
  {
   "cell_type": "raw",
   "id": "53e1f704",
   "metadata": {},
   "source": [
    "You are given a string s and an array of strings words. All the strings of words are of the same length.\n",
    "\n",
    "A concatenated substring in s is a substring that contains all the strings of any permutation of words concatenated.\n",
    "\n",
    "    For example, if words = [\"ab\",\"cd\",\"ef\"], then \"abcdef\", \"abefcd\", \"cdabef\", \"cdefab\", \"efabcd\", and \"efcdab\" are all concatenated strings. \"acdbef\" is not a concatenated substring because it is not the concatenation of any permutation of words.\n",
    "\n"
   ]
  },
  {
   "cell_type": "code",
   "execution_count": null,
   "id": "1e186a90",
   "metadata": {},
   "outputs": [],
   "source": [
    " # Resultant list\n",
    "def findSubstring()\n",
    "        indices = []\n",
    "        # Base conditions\n",
    "        if s is None or len(s) == 0 or words is None or len(words) == 0:\n",
    "            return indices\n",
    "\n",
    "        # Dictionary to store the count of each word in the words array\n",
    "        wordCount = dict()\n",
    "        # Loop to store count of each word in the array\n",
    "        for i in range(len(words)):\n",
    "            if words[i] in wordCount:\n",
    "                wordCount[words[i]] += 1\n",
    "            else:\n",
    "                wordCount[words[i]] = 1\n",
    "        # Length of each word in the words array\n",
    "        wordLength = len(words[0])\n",
    "        # Total length of all the words in the array\n",
    "        wordArrayLength = wordLength * len(words)\n",
    "        # Loop for each character in the string\n",
    "        for i in range(0, len(s) - wordArrayLength + 1):\n",
    "            # Get the current string\n",
    "            current = s[i:i + wordArrayLength]\n",
    "            # Map to store the count of each word in the current\n",
    "            wordMap = dict()\n",
    "            # Index to loop through the array\n",
    "            index = 0\n",
    "            # Index to partition the current string\n",
    "            j = 0\n",
    "            # Loop through the words array\n",
    "            while index < len(words):\n",
    "                # Partition the string\n",
    "                part = current[j: j + wordLength]\n",
    "                # Save this in wordMap\n",
    "                if part in wordMap:\n",
    "                    wordMap[part] += 1\n",
    "                else:\n",
    "                    wordMap[part] = 1\n",
    "                # Update the indices\n",
    "                j += wordLength\n",
    "                index += 1\n",
    "            # Compare the two maps\n",
    "            if wordMap == wordCount:\n",
    "                indices.append(i)\n",
    "        return indices\n"
   ]
  }
 ],
 "metadata": {
  "kernelspec": {
   "display_name": "Python 3 (ipykernel)",
   "language": "python",
   "name": "python3"
  },
  "language_info": {
   "codemirror_mode": {
    "name": "ipython",
    "version": 3
   },
   "file_extension": ".py",
   "mimetype": "text/x-python",
   "name": "python",
   "nbconvert_exporter": "python",
   "pygments_lexer": "ipython3",
   "version": "3.8.10"
  }
 },
 "nbformat": 4,
 "nbformat_minor": 5
}
