{
 "cells": [
  {
   "cell_type": "raw",
   "id": "286cd524",
   "metadata": {},
   "source": [
    "Given an integer array nums of length n and an integer target, find three integers in nums such that the sum is closest to target.\n",
    "\n",
    "Return the sum of the three integers."
   ]
  },
  {
   "cell_type": "code",
   "execution_count": 3,
   "id": "184f421d",
   "metadata": {},
   "outputs": [],
   "source": [
    "def threeSumClosest(nums, target):\n",
    "    nums.sort()\n",
    "    res = sum(nums[:3]) #first three numbers \n",
    "    for i in range(len(nums)-2):\n",
    "        l = i+1\n",
    "        r = len(nums)-1\n",
    "        while l < r:\n",
    "            curSum = nums[i]+nums[l]+nums[r]\n",
    "            if abs(curSum-target) < abs(res-target):\n",
    "                res = curSum\n",
    "            if curSum < target:\n",
    "                l +=1\n",
    "            else:\n",
    "                r -=1\n",
    "    return res"
   ]
  },
  {
   "cell_type": "code",
   "execution_count": 4,
   "id": "dedfbe8c",
   "metadata": {},
   "outputs": [
    {
     "data": {
      "text/plain": [
       "2"
      ]
     },
     "execution_count": 4,
     "metadata": {},
     "output_type": "execute_result"
    }
   ],
   "source": [
    "threeSumClosest([-1,2,1,-4], 1)"
   ]
  },
  {
   "cell_type": "code",
   "execution_count": null,
   "id": "9ba8087d",
   "metadata": {},
   "outputs": [],
   "source": []
  }
 ],
 "metadata": {
  "kernelspec": {
   "display_name": "Python 3 (ipykernel)",
   "language": "python",
   "name": "python3"
  },
  "language_info": {
   "codemirror_mode": {
    "name": "ipython",
    "version": 3
   },
   "file_extension": ".py",
   "mimetype": "text/x-python",
   "name": "python",
   "nbconvert_exporter": "python",
   "pygments_lexer": "ipython3",
   "version": "3.8.10"
  }
 },
 "nbformat": 4,
 "nbformat_minor": 5
}
