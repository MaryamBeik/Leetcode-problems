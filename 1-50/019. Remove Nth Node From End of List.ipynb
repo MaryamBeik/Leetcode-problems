{
 "cells": [
  {
   "cell_type": "code",
   "execution_count": null,
   "id": "d4189fd2",
   "metadata": {},
   "outputs": [],
   "source": [
    "# remove n the node from end of list\n",
    "# one way is reversing the list and then remove the n the node from the new reversed list\n",
    "# one way is count the list in one traverse and then remove the count-n th node in second travese \n",
    "# one way is using two pointers with an offset on n\n",
    "# 1 ->2 ->3 ->4 ->5 -> Null"
   ]
  },
  {
   "cell_type": "code",
   "execution_count": 1,
   "id": "633d740a",
   "metadata": {},
   "outputs": [],
   "source": [
    "class ListNode:\n",
    "    def __init__ (self, val):\n",
    "        self.val = val\n",
    "        self.next = None\n",
    "    "
   ]
  },
  {
   "cell_type": "code",
   "execution_count": 2,
   "id": "1ad12166",
   "metadata": {},
   "outputs": [],
   "source": [
    "# two time traversing the list\n",
    "def removeNthNode(head, n):\n",
    "    lenght = 0\n",
    "    if not head or not head.next: return None\n",
    "    curr = head\n",
    "    while curr:\n",
    "        curr = curr.next\n",
    "        lenght +=1\n",
    "    # now we have length of the list\n",
    "    # we can iterate length - n for shift the curr node to a node before the last nth node \n",
    "    curr = head\n",
    "    for i in range(length - n):\n",
    "        curr = curr.next\n",
    "    #now curr in pointing at the last n th node\n",
    "    \n",
    "    # remove the node\n",
    "    curr.next = curr.next.next\n",
    "    \n",
    "    "
   ]
  },
  {
   "cell_type": "code",
   "execution_count": null,
   "id": "f41bc70a",
   "metadata": {},
   "outputs": [],
   "source": [
    "# using two pointers\n",
    "def removeNth(head, n):\n",
    "    dummy = ListNode(val = 0, next = head)\n",
    "    l = dummy\n",
    "    r = head\n",
    "    # make offset betweeb left and right pointers\n",
    "    for i in range(n):\n",
    "        r = r.next\n",
    "    # now r has n offset with l    \n",
    "    while r:\n",
    "        l = l.next\n",
    "        r = r.next\n",
    "    #noe l is pointing at one node before the last n the node\n",
    "    #so next node after l can be removed\n",
    "    l.next = l.next.next\n",
    "    return dummy.next\n"
   ]
  }
 ],
 "metadata": {
  "kernelspec": {
   "display_name": "Python 3 (ipykernel)",
   "language": "python",
   "name": "python3"
  },
  "language_info": {
   "codemirror_mode": {
    "name": "ipython",
    "version": 3
   },
   "file_extension": ".py",
   "mimetype": "text/x-python",
   "name": "python",
   "nbconvert_exporter": "python",
   "pygments_lexer": "ipython3",
   "version": "3.8.10"
  }
 },
 "nbformat": 4,
 "nbformat_minor": 5
}
