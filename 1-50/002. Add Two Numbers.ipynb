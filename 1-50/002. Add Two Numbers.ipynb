{
 "cells": [
  {
   "cell_type": "raw",
   "id": "b049db82",
   "metadata": {},
   "source": [
    "You are given two non-empty linked lists representing two non-negative integers. The digits are stored in reverse order, and each of their nodes contains a single digit. Add the two numbers and return the sum as a linked list.\n",
    "\n",
    "\n"
   ]
  },
  {
   "cell_type": "code",
   "execution_count": null,
   "id": "53c0fa5a",
   "metadata": {},
   "outputs": [],
   "source": [
    "class ListNode:\n",
    "    def __init__ (self,val):\n",
    "        self.val = val\n",
    "        self.next = None"
   ]
  },
  {
   "cell_type": "code",
   "execution_count": null,
   "id": "e3d0a377",
   "metadata": {},
   "outputs": [],
   "source": [
    "def addTwoNumbers(head1, head2):\n",
    "    dummy = ListNode(val = 0)\n",
    "    tail = dummy\n",
    "    carry = 0\n",
    "    while head1 or head2 or carry:\n",
    "        val1 = head1.val if head1 else 0\n",
    "        val2 = head2.val if head2 else 0\n",
    "        sumVals = val1 + val2 +carry\n",
    "        #update the carry if greater than 9\n",
    "        carry = sumVals //10\n",
    "        sumVals = sumVals %10\n",
    "        newNode = ListNode(sumVals)\n",
    "        tail.next = newNode\n",
    "        \n",
    "        head1= head1.next if head1 else None\n",
    "        head2 = head2.next if head2 else None\n",
    "        tail = tail.next\n",
    "    return dummy.next"
   ]
  }
 ],
 "metadata": {
  "kernelspec": {
   "display_name": "Python 3 (ipykernel)",
   "language": "python",
   "name": "python3"
  },
  "language_info": {
   "codemirror_mode": {
    "name": "ipython",
    "version": 3
   },
   "file_extension": ".py",
   "mimetype": "text/x-python",
   "name": "python",
   "nbconvert_exporter": "python",
   "pygments_lexer": "ipython3",
   "version": "3.8.10"
  }
 },
 "nbformat": 4,
 "nbformat_minor": 5
}
