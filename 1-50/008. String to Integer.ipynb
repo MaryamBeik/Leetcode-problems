{
 "cells": [
  {
   "cell_type": "raw",
   "id": "26fb8033",
   "metadata": {},
   "source": [
    "Implement the myAtoi(string s) function, which converts a string to a 32-bit signed integer (similar to C/C++'s atoi function).\n",
    "\n",
    "The algorithm for myAtoi(string s) is as follows:\n",
    "\n",
    "    Read in and ignore any leading whitespace.\n",
    "    Check if the next character (if not already at the end of the string) is '-' or '+'. Read this character in if it is either. This determines if the final result is negative or positive respectively. Assume the result is positive if neither is present.\n",
    "    Read in next the characters until the next non-digit character or the end of the input is reached. The rest of the string is ignored.\n",
    "    Convert these digits into an integer (i.e. \"123\" -> 123, \"0032\" -> 32). If no digits were read, then the integer is 0. Change the sign as necessary (from step 2).\n",
    "    If the integer is out of the 32-bit signed integer range [-231, 231 - 1], then clamp the integer so that it remains in the range. Specifically, integers less than -231 should be clamped to -231, and integers greater than 231 - 1 should be clamped to 231 - 1.\n",
    "    Return the integer as the final result.\n"
   ]
  },
  {
   "cell_type": "code",
   "execution_count": null,
   "id": "8611af54",
   "metadata": {},
   "outputs": [],
   "source": [
    "# Implement the myAtoi(string s) function, \n",
    "# which converts a string to a 32-bit signed integer (similar to C/C++'s atoi function).\n",
    "class Solution(object):\n",
    "   #to remove any spaces from left\n",
    "        s = s.lstrip()\n",
    "        if not s:\n",
    "            return 0\n",
    "        sign = 1\n",
    "        i = 0\n",
    "        #determine the sign of the number\n",
    "        if s[i] =='+':\n",
    "            i += 1\n",
    "        elif s[i] == '-':\n",
    "            i += 1\n",
    "            sign = -1\n",
    "        digit = 0\n",
    "        while i < len(s):\n",
    "            cur = s[i]\n",
    "            if not cur.isdigit():\n",
    "                break\n",
    "            else:\n",
    "                digit = digit * 10 + int(cur)\n",
    "            i +=1\n",
    "        digit *= sign\n",
    "        if digit > 2**31 -1:\n",
    "            return 2**31 -1\n",
    "        elif digit <= -2**31 :\n",
    "            return -2**31\n",
    "        else:\n",
    "            return digit"
   ]
  }
 ],
 "metadata": {
  "kernelspec": {
   "display_name": "Python 3 (ipykernel)",
   "language": "python",
   "name": "python3"
  },
  "language_info": {
   "codemirror_mode": {
    "name": "ipython",
    "version": 3
   },
   "file_extension": ".py",
   "mimetype": "text/x-python",
   "name": "python",
   "nbconvert_exporter": "python",
   "pygments_lexer": "ipython3",
   "version": "3.8.10"
  }
 },
 "nbformat": 4,
 "nbformat_minor": 5
}
