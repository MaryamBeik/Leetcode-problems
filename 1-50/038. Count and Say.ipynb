{
 "cells": [
  {
   "cell_type": "raw",
   "id": "86683852",
   "metadata": {},
   "source": [
    "The count-and-say sequence is a sequence of digit strings defined by the recursive formula:\n",
    "\n",
    "    countAndSay(1) = \"1\"\n",
    "    countAndSay(n) is the way you would \"say\" the digit string from countAndSay(n-1), which is then converted into a different digit string.\n",
    "\n",
    "To determine how you \"say\" a digit string, split it into the minimal number of substrings such that each substring contains exactly one unique digit. Then for each substring, say the number of digits, then say the digit. Finally, concatenate every said digit."
   ]
  },
  {
   "cell_type": "code",
   "execution_count": 7,
   "id": "4fd77d49",
   "metadata": {},
   "outputs": [],
   "source": [
    "def countAndSay(n):\n",
    "    res = '1'\n",
    "    for _ in range(n - 1):\n",
    "      nxt = ''\n",
    "      i = 0\n",
    "      while i < len(res):\n",
    "        count = 1\n",
    "        while i + 1 < len(res) and res[i] == res[i + 1]:\n",
    "          count += 1\n",
    "          i += 1\n",
    "        nxt += str(count) + res[i]\n",
    "        i += 1\n",
    "      res = nxt\n",
    "\n",
    "    return res"
   ]
  },
  {
   "cell_type": "code",
   "execution_count": 9,
   "id": "2035b3fe",
   "metadata": {},
   "outputs": [
    {
     "data": {
      "text/plain": [
       "'1211'"
      ]
     },
     "execution_count": 9,
     "metadata": {},
     "output_type": "execute_result"
    }
   ],
   "source": [
    "countAndSay(4)"
   ]
  },
  {
   "cell_type": "code",
   "execution_count": null,
   "id": "61e79c83",
   "metadata": {},
   "outputs": [],
   "source": []
  }
 ],
 "metadata": {
  "kernelspec": {
   "display_name": "Python 3 (ipykernel)",
   "language": "python",
   "name": "python3"
  },
  "language_info": {
   "codemirror_mode": {
    "name": "ipython",
    "version": 3
   },
   "file_extension": ".py",
   "mimetype": "text/x-python",
   "name": "python",
   "nbconvert_exporter": "python",
   "pygments_lexer": "ipython3",
   "version": "3.8.10"
  }
 },
 "nbformat": 4,
 "nbformat_minor": 5
}
