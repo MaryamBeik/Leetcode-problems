{
 "cells": [
  {
   "cell_type": "raw",
   "id": "461e7939",
   "metadata": {},
   "source": [
    "You are given an array of k linked-lists lists, each linked-list is sorted in ascending order."
   ]
  },
  {
   "cell_type": "code",
   "execution_count": 2,
   "id": "5a65a3fe",
   "metadata": {},
   "outputs": [],
   "source": [
    "class Node:\n",
    "    def __init__ (self, val):\n",
    "        self.val = val\n",
    "        self.next = None\n",
    "        "
   ]
  },
  {
   "cell_type": "code",
   "execution_count": 4,
   "id": "274dd520",
   "metadata": {},
   "outputs": [],
   "source": [
    "def mergeKlist(lists):\n",
    "    if not lists or len(lists) ==0 :\n",
    "        return None\n",
    "    merged = []\n",
    "    while len(lists)> 1:\n",
    "        for i in range(0, len(lists), 2):\n",
    "            l1 = lists[i]\n",
    "            l2= lists[i+1] if i+1 < len(lists) else None\n",
    "            merged.append(merge(l1, l2))\n",
    "        lists = merged\n",
    "    return lists[0]\n",
    "\n",
    "def merge(l1, l2):\n",
    "    dummy = Node()\n",
    "    tail = dummy\n",
    "    while l1 and l2:\n",
    "        if l1.val < l2.val:\n",
    "            tail.next = l1\n",
    "            l1 = l1.next\n",
    "        else:\n",
    "            tail.next = l2\n",
    "            l2 = l2.next\n",
    "        tail = tail.next\n",
    "    if l1 :\n",
    "        tail.next = l1\n",
    "    if l2:\n",
    "        tail.next = l2\n",
    "    return dummy.next\n",
    "        "
   ]
  },
  {
   "cell_type": "code",
   "execution_count": null,
   "id": "e9d681b7",
   "metadata": {},
   "outputs": [],
   "source": []
  }
 ],
 "metadata": {
  "kernelspec": {
   "display_name": "Python 3 (ipykernel)",
   "language": "python",
   "name": "python3"
  },
  "language_info": {
   "codemirror_mode": {
    "name": "ipython",
    "version": 3
   },
   "file_extension": ".py",
   "mimetype": "text/x-python",
   "name": "python",
   "nbconvert_exporter": "python",
   "pygments_lexer": "ipython3",
   "version": "3.8.10"
  }
 },
 "nbformat": 4,
 "nbformat_minor": 5
}
