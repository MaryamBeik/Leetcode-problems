{
 "cells": [
  {
   "cell_type": "raw",
   "id": "7d8b5bee",
   "metadata": {},
   "source": [
    "Given a sorted array of distinct integers and a target value, return the index if the target is found. If not, return the index where it would be if it were inserted in order.\n",
    "\n",
    "You must write an algorithm with O(log n) runtime complexity."
   ]
  },
  {
   "cell_type": "code",
   "execution_count": 1,
   "id": "afae786b",
   "metadata": {},
   "outputs": [],
   "source": [
    "def searchInsertion(nums, target):\n",
    "    l ,r = 0, len(nums)-1\n",
    "    while l <= r:\n",
    "        m = (r + l) //2\n",
    "        if target ==nums[m]:\n",
    "            return m\n",
    "        if target> nums[m]:\n",
    "            l = m+1\n",
    "        else:\n",
    "            r = m-1\n",
    "    return l"
   ]
  },
  {
   "cell_type": "code",
   "execution_count": null,
   "id": "684e7162",
   "metadata": {},
   "outputs": [],
   "source": []
  }
 ],
 "metadata": {
  "kernelspec": {
   "display_name": "Python 3 (ipykernel)",
   "language": "python",
   "name": "python3"
  },
  "language_info": {
   "codemirror_mode": {
    "name": "ipython",
    "version": 3
   },
   "file_extension": ".py",
   "mimetype": "text/x-python",
   "name": "python",
   "nbconvert_exporter": "python",
   "pygments_lexer": "ipython3",
   "version": "3.8.10"
  }
 },
 "nbformat": 4,
 "nbformat_minor": 5
}
