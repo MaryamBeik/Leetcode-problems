{
 "cells": [
  {
   "cell_type": "raw",
   "id": "5572387f",
   "metadata": {},
   "source": [
    "A permutation of an array of integers is an arrangement of its members into a sequence or linear order.\n",
    "\n",
    "    For example, for arr = [1,2,3], the following are all the permutations of arr: [1,2,3], [1,3,2], [2, 1, 3], [2, 3, 1], [3,1,2], [3,2,1].\n",
    "\n",
    "The next permutation of an array of integers is the next lexicographically greater permutation of its integer. More formally, if all the permutations of the array are sorted in one container according to their lexicographical order, then the next permutation of that array is the permutation that follows it in the sorted container. If such arrangement is not possible, the array must be rearranged as the lowest possible order (i.e., sorted in ascending order).\n",
    "\n"
   ]
  },
  {
   "cell_type": "code",
   "execution_count": null,
   "id": "68c43981",
   "metadata": {},
   "outputs": [],
   "source": [
    " def nextPermutation(nums):\n",
    "      \n",
    "        i = j = len(nums)-1\n",
    "        while i > 0 and nums[i]<=nums[i-1]:\n",
    "            i-=1\n",
    "        i-=1\n",
    "        if i<0:\n",
    "            nums.reverse()\n",
    "            return\n",
    "\n",
    "        while j>i and nums[j]<=nums[i]:\n",
    "            j-=1\n",
    "\n",
    "        nums[i],nums[j] = nums[j], nums[i]\n",
    "\n",
    "        k,l = i+1, len(nums)-1\n",
    "\n",
    "        while k<l:\n",
    "            nums[k],nums[l] = nums[l], nums[k]\n",
    "            k+=1\n",
    "            l-=1"
   ]
  }
 ],
 "metadata": {
  "kernelspec": {
   "display_name": "Python 3 (ipykernel)",
   "language": "python",
   "name": "python3"
  },
  "language_info": {
   "codemirror_mode": {
    "name": "ipython",
    "version": 3
   },
   "file_extension": ".py",
   "mimetype": "text/x-python",
   "name": "python",
   "nbconvert_exporter": "python",
   "pygments_lexer": "ipython3",
   "version": "3.8.10"
  }
 },
 "nbformat": 4,
 "nbformat_minor": 5
}
