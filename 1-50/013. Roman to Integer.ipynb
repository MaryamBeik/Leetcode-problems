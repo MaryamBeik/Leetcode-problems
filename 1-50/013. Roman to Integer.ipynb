{
 "cells": [
  {
   "cell_type": "raw",
   "id": "550c4465",
   "metadata": {},
   "source": [
    "Roman numerals are represented by seven different symbols: I, V, X, L, C, D and M.\n"
   ]
  },
  {
   "cell_type": "code",
   "execution_count": 2,
   "id": "d6b805fd",
   "metadata": {},
   "outputs": [],
   "source": [
    "def romanToInt(s):\n",
    "    roman={'I': 1,'V':5,'X':10,\n",
    "           'L':50,'C':100,'D':500,\n",
    "            'M' :1000}\n",
    "    res = 0\n",
    "    for i in range(len(s)):\n",
    "        if i+1 < len(s) and roman[s[i]]<roman[s[i+1]]:\n",
    "            res -=roman[s[i]]\n",
    "        else:\n",
    "            res +=roman[s[i]]\n",
    "    return res"
   ]
  },
  {
   "cell_type": "code",
   "execution_count": 4,
   "id": "2d1b99ec",
   "metadata": {},
   "outputs": [
    {
     "data": {
      "text/plain": [
       "1994"
      ]
     },
     "execution_count": 4,
     "metadata": {},
     "output_type": "execute_result"
    }
   ],
   "source": [
    "romanToInt('MCMXCIV')"
   ]
  },
  {
   "cell_type": "code",
   "execution_count": null,
   "id": "ca047e70",
   "metadata": {},
   "outputs": [],
   "source": []
  }
 ],
 "metadata": {
  "kernelspec": {
   "display_name": "Python 3 (ipykernel)",
   "language": "python",
   "name": "python3"
  },
  "language_info": {
   "codemirror_mode": {
    "name": "ipython",
    "version": 3
   },
   "file_extension": ".py",
   "mimetype": "text/x-python",
   "name": "python",
   "nbconvert_exporter": "python",
   "pygments_lexer": "ipython3",
   "version": "3.8.10"
  }
 },
 "nbformat": 4,
 "nbformat_minor": 5
}
