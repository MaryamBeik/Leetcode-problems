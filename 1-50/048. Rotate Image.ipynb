{
 "cells": [
  {
   "cell_type": "raw",
   "id": "1c4bce58",
   "metadata": {},
   "source": [
    "You are given an n x n 2D matrix representing an image, rotate the image by 90 degrees (clockwise)."
   ]
  },
  {
   "cell_type": "code",
   "execution_count": 1,
   "id": "a29c4107",
   "metadata": {},
   "outputs": [],
   "source": [
    "def rotatedImage(matrix):\n",
    "    r , l = 0, len(matrix)-1\n",
    "    while l < r:\n",
    "        for i in range(r-l):\n",
    "            top , bottom = l ,r\n",
    "            #save the topleft\n",
    "            topLeft = matrix[top][l+i]\n",
    "            #move bottom left to top left\n",
    "            matrix[top][l+i]  = matrix[bottom-i][l]\n",
    "            \n",
    "            #move bottom right to bottom left\n",
    "            matrix[bottom-i][l] = matrix[bottom][r-i]\n",
    "            \n",
    "            #move top right to bottom right\n",
    "            matrix[bottom][r-i] = matrix[top+i][r]\n",
    "            \n",
    "            #move topleft to top right\n",
    "            matrix[top+i][r] = topLeft\n",
    "        r -=1\n",
    "        l +=1\n",
    "                    \n",
    "            "
   ]
  },
  {
   "cell_type": "code",
   "execution_count": null,
   "id": "ebb568ee",
   "metadata": {},
   "outputs": [],
   "source": []
  }
 ],
 "metadata": {
  "kernelspec": {
   "display_name": "Python 3 (ipykernel)",
   "language": "python",
   "name": "python3"
  },
  "language_info": {
   "codemirror_mode": {
    "name": "ipython",
    "version": 3
   },
   "file_extension": ".py",
   "mimetype": "text/x-python",
   "name": "python",
   "nbconvert_exporter": "python",
   "pygments_lexer": "ipython3",
   "version": "3.8.10"
  }
 },
 "nbformat": 4,
 "nbformat_minor": 5
}
