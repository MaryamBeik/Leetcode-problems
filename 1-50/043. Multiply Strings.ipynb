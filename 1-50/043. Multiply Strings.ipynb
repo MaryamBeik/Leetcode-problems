{
 "cells": [
  {
   "cell_type": "raw",
   "id": "3deade34",
   "metadata": {},
   "source": [
    "Given two non-negative integers num1 and num2 represented as strings, return the product of num1 and num2, also represented as a string."
   ]
  },
  {
   "cell_type": "code",
   "execution_count": 5,
   "id": "a125db5e",
   "metadata": {},
   "outputs": [],
   "source": [
    "def multiply(nums1, nums2):\n",
    "    if int(nums1) == 0 or int(nums2)==0: return \"0\"\n",
    "    nums1 = nums1[::-1]\n",
    "    nums2 = nums2[::-1]\n",
    "   \n",
    "    \n",
    "    res = [0]*(len(nums1) + len(nums2))\n",
    "    for i in range(len(nums1)):\n",
    "        for j in range(len(nums2)):\n",
    "            res[i+j] += (int(nums1[i]) * int(nums2[j]))\n",
    "    print(res)\n",
    "    for i in range(len(res)):\n",
    "        #carry to the next\n",
    "        if res[i] > 9:\n",
    "            carry = res[i] //10 \n",
    "            res[i] = res[i] % 10\n",
    "            print(carry)\n",
    "            res[i+1] += carry\n",
    "    if res[-1]==0: \n",
    "        res.pop()\n",
    "    return \"\".join(map(str, res[::-1])) "
   ]
  },
  {
   "cell_type": "code",
   "execution_count": 6,
   "id": "c4378b62",
   "metadata": {},
   "outputs": [
    {
     "name": "stdout",
     "output_type": "stream",
     "text": [
      "[0, 18, 0]\n",
      "1\n"
     ]
    },
    {
     "data": {
      "text/plain": [
       "'180'"
      ]
     },
     "execution_count": 6,
     "metadata": {},
     "output_type": "execute_result"
    }
   ],
   "source": [
    "multiply('90','2')"
   ]
  },
  {
   "cell_type": "code",
   "execution_count": null,
   "id": "56eeb385",
   "metadata": {},
   "outputs": [],
   "source": []
  },
  {
   "cell_type": "code",
   "execution_count": null,
   "id": "222e3a97",
   "metadata": {},
   "outputs": [],
   "source": []
  }
 ],
 "metadata": {
  "kernelspec": {
   "display_name": "Python 3 (ipykernel)",
   "language": "python",
   "name": "python3"
  },
  "language_info": {
   "codemirror_mode": {
    "name": "ipython",
    "version": 3
   },
   "file_extension": ".py",
   "mimetype": "text/x-python",
   "name": "python",
   "nbconvert_exporter": "python",
   "pygments_lexer": "ipython3",
   "version": "3.8.10"
  }
 },
 "nbformat": 4,
 "nbformat_minor": 5
}
