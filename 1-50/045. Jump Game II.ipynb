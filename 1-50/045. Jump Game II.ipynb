{
 "cells": [
  {
   "cell_type": "raw",
   "id": "7907a653",
   "metadata": {},
   "source": [
    "Given an array of non-negative integers nums, you are initially positioned at the first index of the array.\n",
    "\n",
    "Each element in the array represents your maximum jump length at that position.\n",
    "\n",
    "Your goal is to reach the last index in the minimum number of jumps."
   ]
  },
  {
   "cell_type": "code",
   "execution_count": 3,
   "id": "4cbad360",
   "metadata": {},
   "outputs": [],
   "source": [
    "def jump(nums):\n",
    "    res = 0\n",
    "    end = 0\n",
    "    farthest = 0\n",
    "\n",
    "    # implicit BFS\n",
    "    for i in range(len(nums) - 1):\n",
    "      farthest = max(farthest, i + nums[i])\n",
    "      if farthest >= len(nums) - 1:\n",
    "        res += 1\n",
    "        break\n",
    "      if i == end:      # visited all the items on the current level\n",
    "        res += 1        # increment the level\n",
    "        end = farthest  # make the queue size for the next level\n",
    "\n",
    "    return res"
   ]
  },
  {
   "cell_type": "code",
   "execution_count": 4,
   "id": "e2056ed0",
   "metadata": {},
   "outputs": [
    {
     "data": {
      "text/plain": [
       "2"
      ]
     },
     "execution_count": 4,
     "metadata": {},
     "output_type": "execute_result"
    }
   ],
   "source": [
    "jump([2,3,0,1,4])"
   ]
  },
  {
   "cell_type": "code",
   "execution_count": null,
   "id": "6103473d",
   "metadata": {},
   "outputs": [],
   "source": []
  }
 ],
 "metadata": {
  "kernelspec": {
   "display_name": "Python 3 (ipykernel)",
   "language": "python",
   "name": "python3"
  },
  "language_info": {
   "codemirror_mode": {
    "name": "ipython",
    "version": 3
   },
   "file_extension": ".py",
   "mimetype": "text/x-python",
   "name": "python",
   "nbconvert_exporter": "python",
   "pygments_lexer": "ipython3",
   "version": "3.8.10"
  }
 },
 "nbformat": 4,
 "nbformat_minor": 5
}
