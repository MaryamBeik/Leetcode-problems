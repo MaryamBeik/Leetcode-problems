{
 "cells": [
  {
   "cell_type": "code",
   "execution_count": null,
   "id": "ffcbd3c6",
   "metadata": {},
   "outputs": [],
   "source": [
    "Given a collection of numbers, nums, that might contain duplicates, return all possible unique permutations in any order."
   ]
  },
  {
   "cell_type": "code",
   "execution_count": null,
   "id": "9b21f9ee",
   "metadata": {},
   "outputs": [],
   "source": [
    "class Solution:\n",
    "    def permuteUnique(self, nums: List[int]) -> List[List[int]]:\n",
    "        \n",
    "        res =[]\n",
    "        perms =[]\n",
    "        #create hashmap and fill the counts of each elements of nums\n",
    "        count={n:0 for n in nums}\n",
    "        for n in nums:\n",
    "            count[n] +=1\n",
    "    \n",
    "        def dfs():\n",
    "            if len(perms)==len(nums):#means permutation is done\n",
    "                res.append(perms.copy())\n",
    "            for n in count:\n",
    "                if count[n]>0:\n",
    "                    perms.append(n)\n",
    "                    count[n] -=1\n",
    "\n",
    "                    dfs()\n",
    "                    #once is done\n",
    "                    count[n] +=1\n",
    "                    perms.pop()\n",
    "\n",
    "        dfs()\n",
    "        return res"
   ]
  }
 ],
 "metadata": {
  "kernelspec": {
   "display_name": "Python 3 (ipykernel)",
   "language": "python",
   "name": "python3"
  },
  "language_info": {
   "codemirror_mode": {
    "name": "ipython",
    "version": 3
   },
   "file_extension": ".py",
   "mimetype": "text/x-python",
   "name": "python",
   "nbconvert_exporter": "python",
   "pygments_lexer": "ipython3",
   "version": "3.8.10"
  }
 },
 "nbformat": 4,
 "nbformat_minor": 5
}
