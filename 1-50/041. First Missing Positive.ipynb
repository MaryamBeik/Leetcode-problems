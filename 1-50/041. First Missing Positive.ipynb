{
 "cells": [
  {
   "cell_type": "raw",
   "id": "33cd8f15",
   "metadata": {},
   "source": [
    "Given an unsorted integer array nums, return the smallest missing positive integer."
   ]
  },
  {
   "cell_type": "code",
   "execution_count": 3,
   "id": "f1ec01c2",
   "metadata": {},
   "outputs": [],
   "source": [
    "def firstMissingPositive(nums):\n",
    "   \n",
    "    setNums = set(nums)\n",
    "    for i in range(1, len(nums)+1):\n",
    "        if i not in setNums:\n",
    "            return i\n",
    "    return len(nums)+1"
   ]
  },
  {
   "cell_type": "code",
   "execution_count": 4,
   "id": "87c55bfb",
   "metadata": {},
   "outputs": [
    {
     "data": {
      "text/plain": [
       "1"
      ]
     },
     "execution_count": 4,
     "metadata": {},
     "output_type": "execute_result"
    }
   ],
   "source": [
    "firstMissingPositive([7,8,9,11,12])"
   ]
  },
  {
   "cell_type": "code",
   "execution_count": null,
   "id": "94459047",
   "metadata": {},
   "outputs": [],
   "source": []
  }
 ],
 "metadata": {
  "kernelspec": {
   "display_name": "Python 3 (ipykernel)",
   "language": "python",
   "name": "python3"
  },
  "language_info": {
   "codemirror_mode": {
    "name": "ipython",
    "version": 3
   },
   "file_extension": ".py",
   "mimetype": "text/x-python",
   "name": "python",
   "nbconvert_exporter": "python",
   "pygments_lexer": "ipython3",
   "version": "3.8.10"
  }
 },
 "nbformat": 4,
 "nbformat_minor": 5
}
