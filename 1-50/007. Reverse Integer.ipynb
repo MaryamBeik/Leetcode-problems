{
 "cells": [
  {
   "cell_type": "raw",
   "id": "e61416d0",
   "metadata": {},
   "source": [
    "Given a signed 32-bit integer x, return x with its digits reversed. If reversing x causes the value to go outside the signed 32-bit integer range [-231, 231 - 1], then return 0."
   ]
  },
  {
   "cell_type": "code",
   "execution_count": null,
   "id": "f93f7da8",
   "metadata": {},
   "outputs": [],
   "source": [
    "#reverse integer\n",
    "def reverseInterger(x):\n",
    "    MAX= (2 ** 31) -1\n",
    "    MIN= (-2 **31)\n",
    "    res = 0\n",
    "    while x:\n",
    "        digit = x % 10\n",
    "        x = x //10\n",
    "        #only check for the overflow \n",
    "        if (res > MAX //10 or \n",
    "            digit >= MAX %10 and res == MAX //10): return 0\n",
    "        if (res< MIN //10 or \n",
    "             digit <= MIN%10 and res == MIN //10 ): return 0\n",
    "        \n",
    "        res = res *10 + digit\n",
    "    return res"
   ]
  },
  {
   "cell_type": "code",
   "execution_count": null,
   "id": "a7b4ed5d",
   "metadata": {},
   "outputs": [],
   "source": []
  }
 ],
 "metadata": {
  "kernelspec": {
   "display_name": "Python 3 (ipykernel)",
   "language": "python",
   "name": "python3"
  },
  "language_info": {
   "codemirror_mode": {
    "name": "ipython",
    "version": 3
   },
   "file_extension": ".py",
   "mimetype": "text/x-python",
   "name": "python",
   "nbconvert_exporter": "python",
   "pygments_lexer": "ipython3",
   "version": "3.8.10"
  }
 },
 "nbformat": 4,
 "nbformat_minor": 5
}
