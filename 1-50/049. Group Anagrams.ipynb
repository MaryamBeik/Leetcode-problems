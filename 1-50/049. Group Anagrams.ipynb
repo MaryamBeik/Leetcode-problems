{
 "cells": [
  {
   "cell_type": "raw",
   "id": "4168799b",
   "metadata": {},
   "source": [
    "Given an array of strings strs, group the anagrams together. You can return the answer in any order."
   ]
  },
  {
   "cell_type": "code",
   "execution_count": 3,
   "id": "003dc299",
   "metadata": {},
   "outputs": [],
   "source": [
    "#group anagrams\n",
    "from collections import defaultdict\n",
    "def groupAnagram(strings):\n",
    "    hashMap =defaultdict(list)\n",
    "    for string in strings:\n",
    "        hashMap[str(sorted(string))].append(string)\n",
    "    return list(hashMap.values())\n",
    "            \n",
    "    "
   ]
  },
  {
   "cell_type": "code",
   "execution_count": 4,
   "id": "baa4adfb",
   "metadata": {},
   "outputs": [
    {
     "data": {
      "text/plain": [
       "[['eat', 'tea'], ['tan', 'nat']]"
      ]
     },
     "execution_count": 4,
     "metadata": {},
     "output_type": "execute_result"
    }
   ],
   "source": [
    "groupAnagram(['eat','tea','tan','nat'])"
   ]
  },
  {
   "cell_type": "code",
   "execution_count": null,
   "id": "64c993e8",
   "metadata": {},
   "outputs": [],
   "source": []
  }
 ],
 "metadata": {
  "kernelspec": {
   "display_name": "Python 3 (ipykernel)",
   "language": "python",
   "name": "python3"
  },
  "language_info": {
   "codemirror_mode": {
    "name": "ipython",
    "version": 3
   },
   "file_extension": ".py",
   "mimetype": "text/x-python",
   "name": "python",
   "nbconvert_exporter": "python",
   "pygments_lexer": "ipython3",
   "version": "3.8.10"
  }
 },
 "nbformat": 4,
 "nbformat_minor": 5
}
