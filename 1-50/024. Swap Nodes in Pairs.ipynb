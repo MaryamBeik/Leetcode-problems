{
 "cells": [
  {
   "cell_type": "raw",
   "id": "5528b444",
   "metadata": {},
   "source": [
    "Given a linked list, swap every two adjacent nodes and return its head. You must solve the problem without modifying the values in the list's nodes (i.e., only nodes themselves may be changed.)"
   ]
  },
  {
   "cell_type": "code",
   "execution_count": null,
   "id": "ad8f5867",
   "metadata": {},
   "outputs": [],
   "source": [
    "def swapPair(head):\n",
    "    dummy = NodeList(None, head)\n",
    "    prev, curr = dummy, head\n",
    "    \n",
    "    while curr and curr.next:\n",
    "        #save pointers\n",
    "        nextPair = curr.next.next\n",
    "        second = curr.next\n",
    "        \n",
    "        #reverse pair\n",
    "        second.next  = curr\n",
    "        curr.next = nextPair\n",
    "        prev.next = second\n",
    "        \n",
    "        #update pointers\n",
    "        prev = curr\n",
    "        curr = nextPair\n",
    "    \n",
    "    return dummy.next"
   ]
  }
 ],
 "metadata": {
  "kernelspec": {
   "display_name": "Python 3 (ipykernel)",
   "language": "python",
   "name": "python3"
  },
  "language_info": {
   "codemirror_mode": {
    "name": "ipython",
    "version": 3
   },
   "file_extension": ".py",
   "mimetype": "text/x-python",
   "name": "python",
   "nbconvert_exporter": "python",
   "pygments_lexer": "ipython3",
   "version": "3.8.10"
  }
 },
 "nbformat": 4,
 "nbformat_minor": 5
}
