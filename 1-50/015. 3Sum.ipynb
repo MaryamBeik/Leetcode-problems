{
 "cells": [
  {
   "cell_type": "raw",
   "id": "ed83913f",
   "metadata": {},
   "source": [
    "#a + b + c = 0\n",
    "Given an integer array nums, return all the triplets [nums[i], nums[j], nums[k]] such that i != j, i != k, and j != k, and nums[i] + nums[j] + nums[k] == 0.\n",
    "\n",
    "Notice that the solution set must not contain duplicate triplets.# do not contain dupllicated triplets"
   ]
  },
  {
   "cell_type": "code",
   "execution_count": 2,
   "id": "fc6246d3",
   "metadata": {},
   "outputs": [],
   "source": [
    "def threeSum(nums):\n",
    "    nums.sort()\n",
    "    res = []\n",
    "    for i in range(len(nums)):\n",
    "        a = nums[i]\n",
    "        if i> 0 and a == nums[i-1]:\n",
    "            continue\n",
    "        \n",
    "        l , r = i+1, len(nums) -1\n",
    "        while l< r :\n",
    "            three = a + nums[l] +nums[r]\n",
    "           \n",
    "            if three > 0:\n",
    "                r -= 1\n",
    "            elif three < 0:\n",
    "                l += 1\n",
    "            else:\n",
    "                res.append([a, nums[l], nums[r]])\n",
    "                l +=1\n",
    "                while nums[l] == nums[l-1] and l<r:\n",
    "                    l +=1\n",
    "    return res\n",
    "\n",
    "        "
   ]
  },
  {
   "cell_type": "code",
   "execution_count": 3,
   "id": "d9be8cd6",
   "metadata": {},
   "outputs": [
    {
     "data": {
      "text/plain": [
       "[[-1, -1, 2], [-1, 0, 1]]"
      ]
     },
     "execution_count": 3,
     "metadata": {},
     "output_type": "execute_result"
    }
   ],
   "source": [
    "threeSum([-1,0,1,2,-1,4])"
   ]
  },
  {
   "cell_type": "code",
   "execution_count": null,
   "id": "3db7ec03",
   "metadata": {},
   "outputs": [],
   "source": []
  },
  {
   "cell_type": "code",
   "execution_count": null,
   "id": "d9f876d2",
   "metadata": {},
   "outputs": [],
   "source": []
  }
 ],
 "metadata": {
  "kernelspec": {
   "display_name": "Python 3 (ipykernel)",
   "language": "python",
   "name": "python3"
  },
  "language_info": {
   "codemirror_mode": {
    "name": "ipython",
    "version": 3
   },
   "file_extension": ".py",
   "mimetype": "text/x-python",
   "name": "python",
   "nbconvert_exporter": "python",
   "pygments_lexer": "ipython3",
   "version": "3.8.10"
  }
 },
 "nbformat": 4,
 "nbformat_minor": 5
}
