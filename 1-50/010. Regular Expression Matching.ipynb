{
 "cells": [
  {
   "cell_type": "raw",
   "id": "4f5b0fdc",
   "metadata": {},
   "source": [
    "Given an input string s and a pattern p, implement regular expression matching with support for '.' and '*' where:\n",
    "\n",
    "    '.' Matches any single character.​​​​\n",
    "    '*' Matches zero or more of the preceding element.\n"
   ]
  },
  {
   "cell_type": "code",
   "execution_count": null,
   "id": "eca65125",
   "metadata": {},
   "outputs": [],
   "source": [
    "def isMatch(self, s, p):\n",
    "    rows, cols = (len(s), len(p))\n",
    "    if rows == 0 and cols ==0:return True\n",
    "    if cols==0:return False\n",
    "    dp = [[False for j in range (cols+1)] for i in range(rows+1)]\n",
    "    #empty string and empty pattern are match\n",
    "    dp[0][0] = True\n",
    "    for i in range(2, cols+1):\n",
    "        if p[i-1] =='*':\n",
    "            dp[0][i] = dp[0][i-2]\n",
    "    for i in range(1, rows+1):\n",
    "        for j in range(1, cols+1):\n",
    "            if s[i-1] ==p[j-1] or p[j-1] =='.':\n",
    "                dp[i][j] = dp[i-1][j-1]\n",
    "            elif j>1 and p[j-1] =='*':\n",
    "                dp[i][j]=dp[i][j-2]\n",
    "                if p[j-2] =='.' or p[j-2] ==s[i-1]:\n",
    "                    dp[i][j] = dp[i][j] or dp[i-1][j]\n",
    "    return dp[rows][cols]"
   ]
  }
 ],
 "metadata": {
  "kernelspec": {
   "display_name": "Python 3 (ipykernel)",
   "language": "python",
   "name": "python3"
  },
  "language_info": {
   "codemirror_mode": {
    "name": "ipython",
    "version": 3
   },
   "file_extension": ".py",
   "mimetype": "text/x-python",
   "name": "python",
   "nbconvert_exporter": "python",
   "pygments_lexer": "ipython3",
   "version": "3.8.10"
  }
 },
 "nbformat": 4,
 "nbformat_minor": 5
}
