{
 "cells": [
  {
   "cell_type": "raw",
   "id": "84aa1256",
   "metadata": {},
   "source": [
    "Given a string containing digits from 2-9 inclusive, return all possible letter combinations that the number could represent. Return the answer in any order."
   ]
  },
  {
   "cell_type": "code",
   "execution_count": 2,
   "id": "f67dcd8f",
   "metadata": {},
   "outputs": [],
   "source": [
    "def letterCombination(digit):\n",
    "    if not digit: return []\n",
    "    digitMap ={'2':'abc','3':'def','4':'ghi','5':'jkl', '6':'mno','7':'pqrs','8':'tuv','9':'wxyz'}\n",
    "    res =[]\n",
    "    cur = []\n",
    "    def dfs(i):\n",
    "        if len(cur) == len(digit):\n",
    "            res.append(cur[::])\n",
    "            return\n",
    "        \n",
    "        for char in digitMap[digit[i]]:\n",
    "            cur.append(char)\n",
    "            dfs(i+1)\n",
    "            cur.pop()\n",
    "    dfs(0)\n",
    "    return res\n",
    "        "
   ]
  },
  {
   "cell_type": "code",
   "execution_count": 3,
   "id": "1ca55330",
   "metadata": {},
   "outputs": [
    {
     "data": {
      "text/plain": [
       "[['a', 'd'],\n",
       " ['a', 'e'],\n",
       " ['a', 'f'],\n",
       " ['b', 'd'],\n",
       " ['b', 'e'],\n",
       " ['b', 'f'],\n",
       " ['c', 'd'],\n",
       " ['c', 'e'],\n",
       " ['c', 'f']]"
      ]
     },
     "execution_count": 3,
     "metadata": {},
     "output_type": "execute_result"
    }
   ],
   "source": [
    "letterCombination('23')"
   ]
  },
  {
   "cell_type": "code",
   "execution_count": null,
   "id": "1cb298ea",
   "metadata": {},
   "outputs": [],
   "source": []
  },
  {
   "cell_type": "code",
   "execution_count": null,
   "id": "81ddc4c8",
   "metadata": {},
   "outputs": [],
   "source": []
  }
 ],
 "metadata": {
  "kernelspec": {
   "display_name": "Python 3 (ipykernel)",
   "language": "python",
   "name": "python3"
  },
  "language_info": {
   "codemirror_mode": {
    "name": "ipython",
    "version": 3
   },
   "file_extension": ".py",
   "mimetype": "text/x-python",
   "name": "python",
   "nbconvert_exporter": "python",
   "pygments_lexer": "ipython3",
   "version": "3.8.10"
  }
 },
 "nbformat": 4,
 "nbformat_minor": 5
}
