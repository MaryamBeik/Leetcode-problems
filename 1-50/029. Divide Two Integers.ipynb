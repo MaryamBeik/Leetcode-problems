{
 "cells": [
  {
   "cell_type": "raw",
   "id": "6888678e",
   "metadata": {},
   "source": [
    "Given two integers dividend and divisor, divide two integers without using multiplication, division, and mod operator.\n",
    "\n",
    "The integer division should truncate toward zero, which means losing its fractional part. For example, 8.345 would be truncated to 8, and -2.7335 would be truncated to -2.\n",
    "\n",
    "Return the quotient after dividing dividend by divisor.\n",
    "\n",
    "\n"
   ]
  },
  {
   "cell_type": "code",
   "execution_count": 4,
   "id": "cf1b1ca3",
   "metadata": {},
   "outputs": [],
   "source": [
    " def divide(self, dividend, divisor):\n",
    "        \"\"\"\n",
    "        :type dividend: int\n",
    "        :type divisor: int\n",
    "        :rtype: int\n",
    "        \"\"\"\n",
    "         # MAX and MIN values for integer\n",
    "        MAX = 2147483647\n",
    "        MIN = -2147483648\n",
    "        # Check for overflow\n",
    "        if divisor == 0 or (dividend == MIN and divisor == -1):\n",
    "            return MAX\n",
    "        # Sign of result`\n",
    "        sign = -1 if (dividend > 0 and divisor < 0) or (dividend < 0 and divisor > 0) else 1\n",
    "        # Quotient\n",
    "        quotient = 0\n",
    "        # Take the absolute value\n",
    "        absoluteDividend = abs(dividend)\n",
    "        absoluteDivisor = abs(divisor)\n",
    "        # Loop until the  dividend is greater than divisor\n",
    "        while absoluteDividend >= absoluteDivisor:\n",
    "            # This represents the number of bits shifted or\n",
    "            # how many times we can double the number\n",
    "            shift = 0\n",
    "            while absoluteDividend >= (absoluteDivisor << shift):\n",
    "                shift += 1\n",
    "            # Add the number of times we shifted to the quotient\n",
    "            quotient += (1 << (shift - 1))\n",
    "            # Update the dividend for the next iteration\n",
    "            absoluteDividend -= absoluteDivisor << (shift - 1)\n",
    "        return -quotient if sign == -1 else quotient"
   ]
  },
  {
   "cell_type": "code",
   "execution_count": 6,
   "id": "fe1e703f",
   "metadata": {},
   "outputs": [
    {
     "data": {
      "text/plain": [
       "2147483648"
      ]
     },
     "execution_count": 6,
     "metadata": {},
     "output_type": "execute_result"
    }
   ],
   "source": [
    "2 **31"
   ]
  },
  {
   "cell_type": "code",
   "execution_count": null,
   "id": "9f8835fe",
   "metadata": {},
   "outputs": [],
   "source": []
  }
 ],
 "metadata": {
  "kernelspec": {
   "display_name": "Python 3 (ipykernel)",
   "language": "python",
   "name": "python3"
  },
  "language_info": {
   "codemirror_mode": {
    "name": "ipython",
    "version": 3
   },
   "file_extension": ".py",
   "mimetype": "text/x-python",
   "name": "python",
   "nbconvert_exporter": "python",
   "pygments_lexer": "ipython3",
   "version": "3.8.10"
  }
 },
 "nbformat": 4,
 "nbformat_minor": 5
}
