{
 "cells": [
  {
   "cell_type": "raw",
   "id": "a299f384",
   "metadata": {},
   "source": [
    "You are given the heads of two sorted linked lists list1 and list2.\n",
    "\n",
    "Merge the two lists in a one sorted list. The list should be made by splicing together the nodes of the first two lists.\n",
    "\n",
    "Return the head of the merged linked list."
   ]
  },
  {
   "cell_type": "code",
   "execution_count": 1,
   "id": "7cdbc47b",
   "metadata": {},
   "outputs": [],
   "source": [
    "#merge tow linked list \n",
    "class ListNode:\n",
    "    def __init__(self, val):\n",
    "        self.val = val\n",
    "        self.next = next\n"
   ]
  },
  {
   "cell_type": "code",
   "execution_count": 4,
   "id": "2776722a",
   "metadata": {},
   "outputs": [],
   "source": [
    "def merge(head1, head2):\n",
    "    dummy = ListNode()\n",
    "    tail = dummy\n",
    "    while head1 and head2:\n",
    "        if head1.val < head2.val:\n",
    "            tail.next = head1\n",
    "            head1= head1.next\n",
    "        else:\n",
    "            tail.next = head2\n",
    "            head2 = head2.next\n",
    "        tail = tail.next\n",
    "        \n",
    "        \n",
    "    if head1:\n",
    "        tail.next = head1\n",
    "    if head2:\n",
    "        tail.next = head2\n",
    "    return dummy.next\n"
   ]
  },
  {
   "cell_type": "code",
   "execution_count": null,
   "id": "f69626f4",
   "metadata": {},
   "outputs": [],
   "source": []
  }
 ],
 "metadata": {
  "kernelspec": {
   "display_name": "Python 3 (ipykernel)",
   "language": "python",
   "name": "python3"
  },
  "language_info": {
   "codemirror_mode": {
    "name": "ipython",
    "version": 3
   },
   "file_extension": ".py",
   "mimetype": "text/x-python",
   "name": "python",
   "nbconvert_exporter": "python",
   "pygments_lexer": "ipython3",
   "version": "3.8.10"
  }
 },
 "nbformat": 4,
 "nbformat_minor": 5
}
