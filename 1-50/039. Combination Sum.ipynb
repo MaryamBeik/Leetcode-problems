{
 "cells": [
  {
   "cell_type": "raw",
   "id": "a60cff40",
   "metadata": {},
   "source": [
    "Given an array of distinct integers candidates and a target integer target, return a list of all unique combinations of candidates where the chosen numbers sum to target. You may return the combinations in any order.\n",
    "\n",
    "The same number may be chosen from candidates an unlimited number of times. Two combinations are unique if the frequency of at least one of the chosen numbers is different."
   ]
  },
  {
   "cell_type": "code",
   "execution_count": 2,
   "id": "ce897a26",
   "metadata": {},
   "outputs": [],
   "source": [
    "def combinationSum(nums, target):\n",
    "    res = []\n",
    "    def dfs(i  , cur, total):\n",
    "        if total == target:\n",
    "            res.append(cur[::])\n",
    "            return \n",
    "        if i>= len(nums) or total > target:\n",
    "            return \n",
    "        n = nums[i]\n",
    "        cur.append(n)\n",
    "        dfs(i, cur, total + n)\n",
    "        cur.pop()\n",
    "        dfs(i+1, cur, total)\n",
    "    dfs(0, [], 0)\n",
    "    return res"
   ]
  },
  {
   "cell_type": "code",
   "execution_count": 3,
   "id": "3f57d95e",
   "metadata": {},
   "outputs": [
    {
     "data": {
      "text/plain": [
       "[[2, 2, 3], [7]]"
      ]
     },
     "execution_count": 3,
     "metadata": {},
     "output_type": "execute_result"
    }
   ],
   "source": [
    "combinationSum([2,3,6,7],7)"
   ]
  },
  {
   "cell_type": "code",
   "execution_count": null,
   "id": "045f8ed9",
   "metadata": {},
   "outputs": [],
   "source": []
  }
 ],
 "metadata": {
  "kernelspec": {
   "display_name": "Python 3 (ipykernel)",
   "language": "python",
   "name": "python3"
  },
  "language_info": {
   "codemirror_mode": {
    "name": "ipython",
    "version": 3
   },
   "file_extension": ".py",
   "mimetype": "text/x-python",
   "name": "python",
   "nbconvert_exporter": "python",
   "pygments_lexer": "ipython3",
   "version": "3.8.10"
  }
 },
 "nbformat": 4,
 "nbformat_minor": 5
}
