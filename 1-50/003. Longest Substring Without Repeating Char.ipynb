{
 "cells": [
  {
   "cell_type": "raw",
   "id": "35c8d106",
   "metadata": {},
   "source": [
    "Given a string s, find the length of the longest substring without repeating characters."
   ]
  },
  {
   "cell_type": "code",
   "execution_count": 2,
   "id": "3c5d6321",
   "metadata": {},
   "outputs": [],
   "source": [
    "def longestSubstring(s):\n",
    "    if not s:\n",
    "        return 0\n",
    "    longest = 1\n",
    "    substr= set()\n",
    "    currentLength = 0\n",
    "    for i in range(len(s)-1):\n",
    "        if s[i] not in substr:\n",
    "            substr.add(s[i])\n",
    "            currentLength +=1\n",
    "        else:\n",
    "            substr.pop()\n",
    "            currentLength -=1\n",
    "        longest = max(longest, currentLength)\n",
    "    return longest\n",
    "        "
   ]
  },
  {
   "cell_type": "code",
   "execution_count": 3,
   "id": "cb110088",
   "metadata": {},
   "outputs": [
    {
     "data": {
      "text/plain": [
       "3"
      ]
     },
     "execution_count": 3,
     "metadata": {},
     "output_type": "execute_result"
    }
   ],
   "source": [
    "longestSubstring('abcabcbb')"
   ]
  }
 ],
 "metadata": {
  "kernelspec": {
   "display_name": "Python 3 (ipykernel)",
   "language": "python",
   "name": "python3"
  },
  "language_info": {
   "codemirror_mode": {
    "name": "ipython",
    "version": 3
   },
   "file_extension": ".py",
   "mimetype": "text/x-python",
   "name": "python",
   "nbconvert_exporter": "python",
   "pygments_lexer": "ipython3",
   "version": "3.8.10"
  }
 },
 "nbformat": 4,
 "nbformat_minor": 5
}
