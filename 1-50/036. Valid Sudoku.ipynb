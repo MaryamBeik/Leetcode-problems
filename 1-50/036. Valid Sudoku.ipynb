{
 "cells": [
  {
   "cell_type": "raw",
   "id": "10aad97b",
   "metadata": {},
   "source": [
    "Determine if a 9 x 9 Sudoku board is valid. Only the filled cells need to be validated according to the following rules:\n",
    "\n",
    "    Each row must contain the digits 1-9 without repetition.\n",
    "    Each column must contain the digits 1-9 without repetition.\n",
    "    Each of the nine 3 x 3 sub-boxes of the grid must contain the digits 1-9 without repetition.\n",
    "\n"
   ]
  },
  {
   "cell_type": "code",
   "execution_count": 1,
   "id": "397490aa",
   "metadata": {},
   "outputs": [],
   "source": [
    "import collections\n",
    "def validSudoku(board):\n",
    "    rowSet = collections.defaultdict(set)\n",
    "    colSet = collections.defaultdict(set)\n",
    "    squareSet= collections.defaultdict(set)\n",
    "    for r in range(9):\n",
    "        for c in range(9):\n",
    "            if board[r][c] =='.':\n",
    "                continue\n",
    "            if (board[r][c] in rowSet[r] or \n",
    "                board[r][c]in colSet[c] or\n",
    "                board[r][c] in squareSet[(r//3, c//3)]):\n",
    "                return False\n",
    "            rowSet[r].add(board[r][c])\n",
    "            colSet[c].add(board[r][c])\n",
    "            squareSet[(r//3,c//3)] .add(board[r][c])\n",
    "    return True\n",
    "        "
   ]
  },
  {
   "cell_type": "code",
   "execution_count": null,
   "id": "42ee585c",
   "metadata": {},
   "outputs": [],
   "source": []
  },
  {
   "cell_type": "code",
   "execution_count": null,
   "id": "8a47b8d6",
   "metadata": {},
   "outputs": [],
   "source": []
  }
 ],
 "metadata": {
  "kernelspec": {
   "display_name": "Python 3 (ipykernel)",
   "language": "python",
   "name": "python3"
  },
  "language_info": {
   "codemirror_mode": {
    "name": "ipython",
    "version": 3
   },
   "file_extension": ".py",
   "mimetype": "text/x-python",
   "name": "python",
   "nbconvert_exporter": "python",
   "pygments_lexer": "ipython3",
   "version": "3.8.10"
  }
 },
 "nbformat": 4,
 "nbformat_minor": 5
}
