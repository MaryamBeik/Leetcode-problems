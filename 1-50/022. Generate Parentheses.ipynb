{
 "cells": [
  {
   "cell_type": "raw",
   "id": "82ffa9f4",
   "metadata": {},
   "source": [
    "Given n pairs of parentheses, write a function to generate all combinations of well-formed parentheses.#generate parantheses- stack\n",
    "#only add open if open<n\n",
    "#only add close if close< open\n",
    "#when stop? open == close ==n "
   ]
  },
  {
   "cell_type": "code",
   "execution_count": 2,
   "id": "3415ccc0",
   "metadata": {},
   "outputs": [],
   "source": [
    "def generateParantheses(n):\n",
    "    stack =[]\n",
    "    res =[]\n",
    "    def backtracking(openN, closedN):\n",
    "        if openN == closedN==n:\n",
    "            res.append(''.join(stack))\n",
    "            return\n",
    "        if openN < n:\n",
    "            stack.append('(')\n",
    "            backtracking(openN+1, closedN)\n",
    "            stack.pop()\n",
    "        if closedN < openN:\n",
    "            stack.append(')')\n",
    "            backtracking(openN, closedN+1)\n",
    "            stack.pop()\n",
    "    backtracking(0,0)\n",
    "    return res"
   ]
  },
  {
   "cell_type": "code",
   "execution_count": 3,
   "id": "fa50eb18",
   "metadata": {},
   "outputs": [
    {
     "data": {
      "text/plain": [
       "['((()))', '(()())', '(())()', '()(())', '()()()']"
      ]
     },
     "execution_count": 3,
     "metadata": {},
     "output_type": "execute_result"
    }
   ],
   "source": [
    "generateParantheses(3)"
   ]
  },
  {
   "cell_type": "code",
   "execution_count": null,
   "id": "76a66aa2",
   "metadata": {},
   "outputs": [],
   "source": []
  }
 ],
 "metadata": {
  "kernelspec": {
   "display_name": "Python 3 (ipykernel)",
   "language": "python",
   "name": "python3"
  },
  "language_info": {
   "codemirror_mode": {
    "name": "ipython",
    "version": 3
   },
   "file_extension": ".py",
   "mimetype": "text/x-python",
   "name": "python",
   "nbconvert_exporter": "python",
   "pygments_lexer": "ipython3",
   "version": "3.8.10"
  }
 },
 "nbformat": 4,
 "nbformat_minor": 5
}
