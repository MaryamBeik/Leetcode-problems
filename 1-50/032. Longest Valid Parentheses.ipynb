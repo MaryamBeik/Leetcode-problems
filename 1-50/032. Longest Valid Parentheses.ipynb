{
 "cells": [
  {
   "cell_type": "raw",
   "id": "71500298",
   "metadata": {},
   "source": [
    "Given a string containing just the characters '(' and ')', find the length of the longest valid (well-formed) parentheses substring."
   ]
  },
  {
   "cell_type": "code",
   "execution_count": 2,
   "id": "3d19813d",
   "metadata": {},
   "outputs": [],
   "source": [
    "def longestValidParanthesis(s):\n",
    "    stack =[]\n",
    "    stack.append(-1)\n",
    "    res = 0\n",
    "    for i in range(len(s)):\n",
    "        if s[i] =='(':\n",
    "            stack.append(i)\n",
    "        else:\n",
    "            stack.pop()\n",
    "            if len(stack) ==0:\n",
    "                stack.append(i)\n",
    "            else:\n",
    "                res = max(res, i-stack[-1])\n",
    "    return res"
   ]
  },
  {
   "cell_type": "code",
   "execution_count": 4,
   "id": "825294d7",
   "metadata": {},
   "outputs": [
    {
     "data": {
      "text/plain": [
       "4"
      ]
     },
     "execution_count": 4,
     "metadata": {},
     "output_type": "execute_result"
    }
   ],
   "source": [
    "longestValidParanthesis(')()())')"
   ]
  },
  {
   "cell_type": "code",
   "execution_count": null,
   "id": "af6c2277",
   "metadata": {},
   "outputs": [],
   "source": []
  }
 ],
 "metadata": {
  "kernelspec": {
   "display_name": "Python 3 (ipykernel)",
   "language": "python",
   "name": "python3"
  },
  "language_info": {
   "codemirror_mode": {
    "name": "ipython",
    "version": 3
   },
   "file_extension": ".py",
   "mimetype": "text/x-python",
   "name": "python",
   "nbconvert_exporter": "python",
   "pygments_lexer": "ipython3",
   "version": "3.8.10"
  }
 },
 "nbformat": 4,
 "nbformat_minor": 5
}
