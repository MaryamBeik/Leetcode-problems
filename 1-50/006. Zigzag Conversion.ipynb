{
 "cells": [
  {
   "cell_type": "raw",
   "id": "01591d2a",
   "metadata": {},
   "source": [
    "The string \"PAYPALISHIRING\" is written in a zigzag pattern on a given number of rows like this: (you may want to display this pattern in a fixed font for better legibility)\n",
    "\n",
    "P   A   H   N\n",
    "A P L S I I G\n",
    "Y   I   R\n"
   ]
  },
  {
   "cell_type": "code",
   "execution_count": 2,
   "id": "24a16e50",
   "metadata": {},
   "outputs": [],
   "source": [
    "def convert(s, numRows):\n",
    "    length = len(s)\n",
    "    result = \"\"\n",
    "    hashTable = [\"\"] * numRows\n",
    "\n",
    "    if numRows >= length or numRows == 1:\n",
    "        return s\n",
    "\n",
    "    for i in range(length):\n",
    "        index = i%(2*numRows-2)\n",
    "        if index < numRows:\n",
    "            hashTable[index] += s[i]\n",
    "        else:\n",
    "            hashTable[2*numRows-2-index] += s[i]\n",
    "\n",
    "    for i in range(numRows):\n",
    "        result += hashTable[i]\n",
    "\n",
    "    return result"
   ]
  },
  {
   "cell_type": "code",
   "execution_count": null,
   "id": "238430eb",
   "metadata": {},
   "outputs": [],
   "source": []
  }
 ],
 "metadata": {
  "kernelspec": {
   "display_name": "Python 3 (ipykernel)",
   "language": "python",
   "name": "python3"
  },
  "language_info": {
   "codemirror_mode": {
    "name": "ipython",
    "version": 3
   },
   "file_extension": ".py",
   "mimetype": "text/x-python",
   "name": "python",
   "nbconvert_exporter": "python",
   "pygments_lexer": "ipython3",
   "version": "3.8.10"
  }
 },
 "nbformat": 4,
 "nbformat_minor": 5
}
