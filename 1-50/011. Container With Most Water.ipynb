{
 "cells": [
  {
   "cell_type": "raw",
   "id": "f248c59d",
   "metadata": {},
   "source": [
    "You are given an integer array height of length n. There are n vertical lines drawn such that the two endpoints of the ith line are (i, 0) and (i, height[i]).\n",
    "\n",
    "Find two lines that together with the x-axis form a container, such that the container contains the most water."
   ]
  },
  {
   "cell_type": "code",
   "execution_count": 2,
   "id": "c6375522",
   "metadata": {},
   "outputs": [],
   "source": [
    "#container with most water\n",
    "def mostwaterContainer(heights):\n",
    "    maxWater = 0\n",
    "    l , r = 0 , len(heights)-1\n",
    "    while l < r:\n",
    "        area = min(heights[l], heights[r]) * (r-l)\n",
    "        maxWater = max(maxWater, area)\n",
    "        \n",
    "        if heights[l] < heights[r]:\n",
    "            l +=1\n",
    "        else: \n",
    "            r -=1\n",
    "    return maxWater\n"
   ]
  },
  {
   "cell_type": "code",
   "execution_count": 3,
   "id": "64b1bf94",
   "metadata": {},
   "outputs": [
    {
     "data": {
      "text/plain": [
       "49"
      ]
     },
     "execution_count": 3,
     "metadata": {},
     "output_type": "execute_result"
    }
   ],
   "source": [
    "mostwaterContainer([1,8,6,2,5,4,8,3,7])"
   ]
  },
  {
   "cell_type": "code",
   "execution_count": null,
   "id": "ecb622b9",
   "metadata": {},
   "outputs": [],
   "source": []
  }
 ],
 "metadata": {
  "kernelspec": {
   "display_name": "Python 3 (ipykernel)",
   "language": "python",
   "name": "python3"
  },
  "language_info": {
   "codemirror_mode": {
    "name": "ipython",
    "version": 3
   },
   "file_extension": ".py",
   "mimetype": "text/x-python",
   "name": "python",
   "nbconvert_exporter": "python",
   "pygments_lexer": "ipython3",
   "version": "3.8.10"
  }
 },
 "nbformat": 4,
 "nbformat_minor": 5
}
