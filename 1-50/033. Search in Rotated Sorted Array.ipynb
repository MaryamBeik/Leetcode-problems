{
 "cells": [
  {
   "cell_type": "raw",
   "id": "09e8c7f4",
   "metadata": {},
   "source": [
    "There is an integer array nums sorted in ascending order (with distinct values).\n",
    "\n",
    "Prior to being passed to your function, nums is possibly rotated at an unknown pivot index k (1 <= k < nums.length) such that the resulting array is [nums[k], nums[k+1], ..., nums[n-1], nums[0], nums[1], ..., nums[k-1]] (0-indexed). For example, [0,1,2,4,5,6,7] might be rotated at pivot index 3 and become [4,5,6,7,0,1,2].\n",
    "\n",
    "Given the array nums after the possible rotation and an integer target, return the index of target if it is in nums, or -1 if it is not in nums."
   ]
  },
  {
   "cell_type": "code",
   "execution_count": 4,
   "id": "db4792e3",
   "metadata": {},
   "outputs": [],
   "source": [
    "def searchRotatedArr(nums, target):\n",
    "    l ,r = 0,len(nums)-1\n",
    "    while l <= r:\n",
    "        m = ( l +r ) //2\n",
    "        if target == nums[m]:\n",
    "            return m\n",
    "        #left sorted portion\n",
    "        if nums[l] <= nums[m]:\n",
    "            if target > nums[m] or target < nums[l]:\n",
    "                l = m +1\n",
    "            else:\n",
    "                r = m-1\n",
    "        else:\n",
    "        #right sorted portion\n",
    "            if target < nums[m] or target > nums[r]:\n",
    "                r = m -1\n",
    "            else:\n",
    "                l = m+1\n",
    "    return -1\n",
    "      \n",
    "            \n",
    "        "
   ]
  },
  {
   "cell_type": "code",
   "execution_count": 6,
   "id": "d4d4652f",
   "metadata": {},
   "outputs": [
    {
     "data": {
      "text/plain": [
       "5"
      ]
     },
     "execution_count": 6,
     "metadata": {},
     "output_type": "execute_result"
    }
   ],
   "source": [
    "searchRotatedArr([4,5,6,7,0,1,2], 1)"
   ]
  },
  {
   "cell_type": "code",
   "execution_count": null,
   "id": "1de3a446",
   "metadata": {},
   "outputs": [],
   "source": []
  }
 ],
 "metadata": {
  "kernelspec": {
   "display_name": "Python 3 (ipykernel)",
   "language": "python",
   "name": "python3"
  },
  "language_info": {
   "codemirror_mode": {
    "name": "ipython",
    "version": 3
   },
   "file_extension": ".py",
   "mimetype": "text/x-python",
   "name": "python",
   "nbconvert_exporter": "python",
   "pygments_lexer": "ipython3",
   "version": "3.8.10"
  }
 },
 "nbformat": 4,
 "nbformat_minor": 5
}
