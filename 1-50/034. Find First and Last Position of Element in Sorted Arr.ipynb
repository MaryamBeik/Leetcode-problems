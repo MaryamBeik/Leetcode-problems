{
 "cells": [
  {
   "cell_type": "raw",
   "id": "a28d308e",
   "metadata": {},
   "source": [
    "Given an array of integers nums sorted in non-decreasing order, find the starting and ending position of a given target value.\n",
    "\n",
    "If target is not found in the array, return [-1, -1]."
   ]
  },
  {
   "cell_type": "code",
   "execution_count": 6,
   "id": "a782dc9f",
   "metadata": {},
   "outputs": [],
   "source": [
    "def searchRange(nums, target):\n",
    "    left = binarySearch(nums, target, True)\n",
    "    right = binarySearch(nums, target , False)\n",
    "    return [left, right]\n",
    "#considering left and right bias\n",
    "def binarySearch(nums, target, leftBias):\n",
    "    l ,r = 0,len(nums)-1\n",
    "    i = -1\n",
    "    while l<= r:\n",
    "        m = (l+r)//2\n",
    "        if target > nums[m]:\n",
    "            l = m +1\n",
    "        elif target < nums[m]:\n",
    "            r = m-1\n",
    "        else:\n",
    "            i = m\n",
    "            if leftBias:\n",
    "                r = m-1\n",
    "            else:\n",
    "                l = m+1\n",
    "    return i\n",
    "        "
   ]
  },
  {
   "cell_type": "code",
   "execution_count": 7,
   "id": "623c633f",
   "metadata": {},
   "outputs": [
    {
     "data": {
      "text/plain": [
       "[3, 4]"
      ]
     },
     "execution_count": 7,
     "metadata": {},
     "output_type": "execute_result"
    }
   ],
   "source": [
    "searchRange([5,7,7,8,8,10],8)"
   ]
  },
  {
   "cell_type": "code",
   "execution_count": null,
   "id": "9ad22477",
   "metadata": {},
   "outputs": [],
   "source": []
  }
 ],
 "metadata": {
  "kernelspec": {
   "display_name": "Python 3 (ipykernel)",
   "language": "python",
   "name": "python3"
  },
  "language_info": {
   "codemirror_mode": {
    "name": "ipython",
    "version": 3
   },
   "file_extension": ".py",
   "mimetype": "text/x-python",
   "name": "python",
   "nbconvert_exporter": "python",
   "pygments_lexer": "ipython3",
   "version": "3.8.10"
  }
 },
 "nbformat": 4,
 "nbformat_minor": 5
}
