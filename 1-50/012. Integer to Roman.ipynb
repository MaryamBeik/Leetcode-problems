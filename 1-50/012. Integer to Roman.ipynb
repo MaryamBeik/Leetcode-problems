{
 "cells": [
  {
   "cell_type": "raw",
   "id": "1fe59495",
   "metadata": {},
   "source": [
    "Roman numerals are represented by seven different symbols: I, V, X, L, C, D and M.\n"
   ]
  },
  {
   "cell_type": "code",
   "execution_count": 3,
   "id": "4bbf1f7d",
   "metadata": {},
   "outputs": [],
   "source": [
    "def intToRoman(num):\n",
    "     symbolList =[['I', 1],['IV', 4],['V', 5],['IX', 9],['X', 10],\n",
    "                ['XL', 40],['L',50], ['XC', 90],['C', 100],['CD', 400],\n",
    "                 ['D', 500], ['CM', 900],['M', 1000]]\n",
    "        res = ''\n",
    "        for symbol , val in reversed(symbolList):\n",
    "            if num // val:\n",
    "                count = num //val\n",
    "                res += (count * symbol)\n",
    "                num = num % val\n",
    "        return res\n",
    "    "
   ]
  },
  {
   "cell_type": "code",
   "execution_count": null,
   "id": "f0a76a24",
   "metadata": {},
   "outputs": [],
   "source": []
  }
 ],
 "metadata": {
  "kernelspec": {
   "display_name": "Python 3 (ipykernel)",
   "language": "python",
   "name": "python3"
  },
  "language_info": {
   "codemirror_mode": {
    "name": "ipython",
    "version": 3
   },
   "file_extension": ".py",
   "mimetype": "text/x-python",
   "name": "python",
   "nbconvert_exporter": "python",
   "pygments_lexer": "ipython3",
   "version": "3.8.10"
  }
 },
 "nbformat": 4,
 "nbformat_minor": 5
}
