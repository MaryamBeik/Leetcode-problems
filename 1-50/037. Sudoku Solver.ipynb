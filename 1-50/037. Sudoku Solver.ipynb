{
 "cells": [
  {
   "cell_type": "raw",
   "id": "85c9fb35",
   "metadata": {},
   "source": [
    "Write a program to solve a Sudoku puzzle by filling the empty cells.\n",
    "\n",
    "A sudoku solution must satisfy all of the following rules:\n",
    "\n",
    "    Each of the digits 1-9 must occur exactly once in each row.\n",
    "    Each of the digits 1-9 must occur exactly once in each column.\n",
    "    Each of the digits 1-9 must occur exactly once in each of the 9 3x3 sub-boxes of the grid.\n",
    "\n",
    "The '.' character indicates empty cells."
   ]
  },
  {
   "cell_type": "code",
   "execution_count": 1,
   "id": "d41f7323",
   "metadata": {},
   "outputs": [],
   "source": [
    "def solveSudoku(board):\n",
    "    def isValid(row, col, c):\n",
    "        for i in range(9):\n",
    "            if (board[i][col] == c or \n",
    "               board[row][i] == c or \n",
    "               board[3 * (row // 3) + i // 3][3 * (col // 3) + i % 3] == c):\n",
    "                  return False\n",
    "      return True\n",
    "\n",
    "    def solve(s) :\n",
    "      if s == 81:\n",
    "        return True\n",
    "\n",
    "      i = s // 9\n",
    "      j = s % 9\n",
    "\n",
    "      if board[i][j] != '.':\n",
    "        return solve(s + 1)\n",
    "\n",
    "      for c in string.digits[1:]:\n",
    "        if isValid(i, j, c):\n",
    "          board[i][j] = c\n",
    "          if solve(s + 1):\n",
    "            return True\n",
    "          board[i][j] = '.'\n",
    "\n",
    "      return False\n",
    "\n",
    "    solve(0)"
   ]
  },
  {
   "cell_type": "code",
   "execution_count": null,
   "id": "56db2169",
   "metadata": {},
   "outputs": [],
   "source": []
  }
 ],
 "metadata": {
  "kernelspec": {
   "display_name": "Python 3 (ipykernel)",
   "language": "python",
   "name": "python3"
  },
  "language_info": {
   "codemirror_mode": {
    "name": "ipython",
    "version": 3
   },
   "file_extension": ".py",
   "mimetype": "text/x-python",
   "name": "python",
   "nbconvert_exporter": "python",
   "pygments_lexer": "ipython3",
   "version": "3.8.10"
  }
 },
 "nbformat": 4,
 "nbformat_minor": 5
}
